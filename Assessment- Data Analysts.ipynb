{
 "cells": [
  {
   "cell_type": "markdown",
   "metadata": {},
   "source": [
    "<body bgcolor=\"#E6E6FA\">\n",
    "  <div>  <img src=\"https://netbramha.com/wp-content/uploads/2016/12/senior-front-end-developer-openings-1.gif\" align=left width=300px height=300px><h1>&nbsp;&nbsp;&nbsp;&nbsp; Python <br> &nbsp;&nbsp;&nbsp;&nbsp; FullThrottle Labs <br> &nbsp;&nbsp;&nbsp;&nbsp; Loan Related Analysis File </h1><img src='' align=right width=200px height=100px>\n",
    "</div>"
   ]
  },
  {
   "cell_type": "markdown",
   "metadata": {},
   "source": [
    "<h1>Contact Details :\n",
    "    <h3>piyush13011994@gmail.com\n",
    "    <H3>7987610329"
   ]
  },
  {
   "cell_type": "markdown",
   "metadata": {},
   "source": [
    "# Importing libraries:"
   ]
  },
  {
   "cell_type": "code",
   "execution_count": 1,
   "metadata": {},
   "outputs": [],
   "source": [
    "import pandas as pd\n",
    "import numpy as np\n",
    "import matplotlib.pyplot as plt\n",
    "import seaborn as sns"
   ]
  },
  {
   "cell_type": "markdown",
   "metadata": {},
   "source": [
    "# Columns Details"
   ]
  },
  {
   "cell_type": "code",
   "execution_count": 2,
   "metadata": {},
   "outputs": [],
   "source": [
    "# Village - The village of the customer\n",
    "# Group ID - Unknown\n",
    "# Member ID - ID of customer\n",
    "# Branch Name - Branch name of Partner\n",
    "# Circle Name - Circle name of customer\n",
    "# Loan Amount - Amount of loan taken\n",
    "# Product Type - Type of product for which loan is taken\n",
    "# Name of Model - Model name of product purchased\n",
    "# Product Detail - Explanation of product (if applicable)\n",
    "# Institution Name - Partner name\n",
    "# Manufacturer Name - Manufacturer of product\n",
    "# Loan Account Number - (Self explanatory)\n",
    "# Loan Application Date - (Self explanatory)\n",
    "# Product Installed Date - (Self explanatory)\n",
    "# Document Signature Date - Date of signing the document for loan\n",
    "# Loan_id - Loan ID\n",
    "# Household_id - Household ID\n",
    "# Product_id - Unique ID of product\n",
    "# Branch_id - Unique ID of branch of the partner from which loan was taken\n",
    "# Partner_id - Unique ID of partner"
   ]
  },
  {
   "cell_type": "markdown",
   "metadata": {},
   "source": [
    "# Task To Do"
   ]
  },
  {
   "cell_type": "code",
   "execution_count": 3,
   "metadata": {},
   "outputs": [],
   "source": [
    "# The objective of this test is to clean the data, do exploratory data analysis on \n",
    "# it and infer from the data about the trends in loans taken and products bought. You should \n",
    "# also include the details of each step performed during cleaning and EDA and why you did them."
   ]
  },
  {
   "cell_type": "markdown",
   "metadata": {},
   "source": [
    "# Load dataset"
   ]
  },
  {
   "cell_type": "code",
   "execution_count": 4,
   "metadata": {},
   "outputs": [],
   "source": [
    "full_loan_data=pd.read_csv('Data Analyst assignment data.csv')\n",
    "full_loan_data.drop('Unnamed: 0',inplace=True,axis=1)"
   ]
  },
  {
   "cell_type": "markdown",
   "metadata": {},
   "source": [
    "# Manual Analysis"
   ]
  },
  {
   "cell_type": "code",
   "execution_count": 5,
   "metadata": {},
   "outputs": [
    {
     "data": {
      "text/plain": [
       "(5000, 20)"
      ]
     },
     "execution_count": 5,
     "metadata": {},
     "output_type": "execute_result"
    }
   ],
   "source": [
    "#--- Shape ---\n",
    "\n",
    "full_loan_data.shape"
   ]
  },
  {
   "cell_type": "code",
   "execution_count": 6,
   "metadata": {},
   "outputs": [
    {
     "data": {
      "text/plain": [
       "Index(['Village', 'Group ID', 'Member ID', 'Branch Name', 'Circle Name',\n",
       "       'Loan Amount', 'Product Type', 'Name of Model', 'Product Detail',\n",
       "       'Institution Name', 'Manufacturer Name', 'Loan Account Number',\n",
       "       'Loan Application Date', 'Product Installed Date',\n",
       "       'Document Signature Date', 'loan_id', 'household_id', 'product_id',\n",
       "       'branch_id', 'partner_id'],\n",
       "      dtype='object')"
      ]
     },
     "execution_count": 6,
     "metadata": {},
     "output_type": "execute_result"
    }
   ],
   "source": [
    "# --- Coloum  ---- \n",
    "\n",
    "full_loan_data.columns"
   ]
  },
  {
   "cell_type": "code",
   "execution_count": 7,
   "metadata": {},
   "outputs": [
    {
     "data": {
      "text/html": [
       "<div>\n",
       "<style scoped>\n",
       "    .dataframe tbody tr th:only-of-type {\n",
       "        vertical-align: middle;\n",
       "    }\n",
       "\n",
       "    .dataframe tbody tr th {\n",
       "        vertical-align: top;\n",
       "    }\n",
       "\n",
       "    .dataframe thead th {\n",
       "        text-align: right;\n",
       "    }\n",
       "</style>\n",
       "<table border=\"1\" class=\"dataframe\">\n",
       "  <thead>\n",
       "    <tr style=\"text-align: right;\">\n",
       "      <th></th>\n",
       "      <th>Village</th>\n",
       "      <th>Group ID</th>\n",
       "      <th>Member ID</th>\n",
       "      <th>Branch Name</th>\n",
       "      <th>Circle Name</th>\n",
       "      <th>Loan Amount</th>\n",
       "      <th>Product Type</th>\n",
       "      <th>Name of Model</th>\n",
       "      <th>Product Detail</th>\n",
       "      <th>Institution Name</th>\n",
       "      <th>Manufacturer Name</th>\n",
       "      <th>Loan Account Number</th>\n",
       "      <th>Loan Application Date</th>\n",
       "      <th>Product Installed Date</th>\n",
       "      <th>Document Signature Date</th>\n",
       "      <th>loan_id</th>\n",
       "      <th>household_id</th>\n",
       "      <th>product_id</th>\n",
       "      <th>branch_id</th>\n",
       "      <th>partner_id</th>\n",
       "    </tr>\n",
       "  </thead>\n",
       "  <tbody>\n",
       "    <tr>\n",
       "      <th>0</th>\n",
       "      <td>Honnavalli</td>\n",
       "      <td>27674</td>\n",
       "      <td>1</td>\n",
       "      <td>Tiptur</td>\n",
       "      <td>J.C Pura</td>\n",
       "      <td>15500</td>\n",
       "      <td>Solar Light Selco</td>\n",
       "      <td>SH4HLS</td>\n",
       "      <td>4 COMBI Light</td>\n",
       "      <td>SKDRDP</td>\n",
       "      <td>SELCO</td>\n",
       "      <td>99155</td>\n",
       "      <td>2018-06-12T00:00:00+05:30</td>\n",
       "      <td>2018-06-18T00:00:00+05:30</td>\n",
       "      <td>2018-06-12T00:00:00+05:30</td>\n",
       "      <td>57-99155</td>\n",
       "      <td>27674-1</td>\n",
       "      <td>50.0</td>\n",
       "      <td>55.0</td>\n",
       "      <td>1</td>\n",
       "    </tr>\n",
       "    <tr>\n",
       "      <th>1</th>\n",
       "      <td>Amaramudnooru</td>\n",
       "      <td>650604</td>\n",
       "      <td>15</td>\n",
       "      <td>Sullia</td>\n",
       "      <td>Bellare</td>\n",
       "      <td>53000</td>\n",
       "      <td>Solar Light Selco</td>\n",
       "      <td>S15HLS</td>\n",
       "      <td>12 CFL + 2 Fan</td>\n",
       "      <td>SKDRDP</td>\n",
       "      <td>SELCO</td>\n",
       "      <td>369065</td>\n",
       "      <td>2019-01-07T00:00:00+05:30</td>\n",
       "      <td>2019-01-10T00:00:00+05:30</td>\n",
       "      <td>2019-01-07T00:00:00+05:30</td>\n",
       "      <td>4-369065</td>\n",
       "      <td>650604-15</td>\n",
       "      <td>42.0</td>\n",
       "      <td>4.0</td>\n",
       "      <td>1</td>\n",
       "    </tr>\n",
       "  </tbody>\n",
       "</table>\n",
       "</div>"
      ],
      "text/plain": [
       "         Village  Group ID  Member ID Branch Name Circle Name Loan Amount  \\\n",
       "0     Honnavalli     27674          1      Tiptur    J.C Pura       15500   \n",
       "1  Amaramudnooru    650604         15      Sullia     Bellare       53000   \n",
       "\n",
       "        Product Type Name of Model  Product Detail Institution Name  \\\n",
       "0  Solar Light Selco        SH4HLS   4 COMBI Light           SKDRDP   \n",
       "1  Solar Light Selco        S15HLS  12 CFL + 2 Fan           SKDRDP   \n",
       "\n",
       "  Manufacturer Name  Loan Account Number      Loan Application Date  \\\n",
       "0             SELCO                99155  2018-06-12T00:00:00+05:30   \n",
       "1             SELCO               369065  2019-01-07T00:00:00+05:30   \n",
       "\n",
       "      Product Installed Date    Document Signature Date   loan_id  \\\n",
       "0  2018-06-18T00:00:00+05:30  2018-06-12T00:00:00+05:30  57-99155   \n",
       "1  2019-01-10T00:00:00+05:30  2019-01-07T00:00:00+05:30  4-369065   \n",
       "\n",
       "  household_id  product_id  branch_id  partner_id  \n",
       "0      27674-1        50.0       55.0           1  \n",
       "1    650604-15        42.0        4.0           1  "
      ]
     },
     "execution_count": 7,
     "metadata": {},
     "output_type": "execute_result"
    }
   ],
   "source": [
    "# --- Head ----\n",
    "\n",
    "\n",
    "full_loan_data.head(2)"
   ]
  },
  {
   "cell_type": "code",
   "execution_count": 8,
   "metadata": {},
   "outputs": [
    {
     "data": {
      "text/html": [
       "<div>\n",
       "<style scoped>\n",
       "    .dataframe tbody tr th:only-of-type {\n",
       "        vertical-align: middle;\n",
       "    }\n",
       "\n",
       "    .dataframe tbody tr th {\n",
       "        vertical-align: top;\n",
       "    }\n",
       "\n",
       "    .dataframe thead th {\n",
       "        text-align: right;\n",
       "    }\n",
       "</style>\n",
       "<table border=\"1\" class=\"dataframe\">\n",
       "  <thead>\n",
       "    <tr style=\"text-align: right;\">\n",
       "      <th></th>\n",
       "      <th>Village</th>\n",
       "      <th>Group ID</th>\n",
       "      <th>Member ID</th>\n",
       "      <th>Branch Name</th>\n",
       "      <th>Circle Name</th>\n",
       "      <th>Loan Amount</th>\n",
       "      <th>Product Type</th>\n",
       "      <th>Name of Model</th>\n",
       "      <th>Product Detail</th>\n",
       "      <th>Institution Name</th>\n",
       "      <th>Manufacturer Name</th>\n",
       "      <th>Loan Account Number</th>\n",
       "      <th>Loan Application Date</th>\n",
       "      <th>Product Installed Date</th>\n",
       "      <th>Document Signature Date</th>\n",
       "      <th>loan_id</th>\n",
       "      <th>household_id</th>\n",
       "      <th>product_id</th>\n",
       "      <th>branch_id</th>\n",
       "      <th>partner_id</th>\n",
       "    </tr>\n",
       "  </thead>\n",
       "  <tbody>\n",
       "    <tr>\n",
       "      <th>4998</th>\n",
       "      <td>Keregodu</td>\n",
       "      <td>390436</td>\n",
       "      <td>4</td>\n",
       "      <td>Mandya</td>\n",
       "      <td>KEREGODU</td>\n",
       "      <td>2350</td>\n",
       "      <td>Greenway Jumbo Stove GJS1</td>\n",
       "      <td>GJS1</td>\n",
       "      <td>NaN</td>\n",
       "      <td>SKDRDP</td>\n",
       "      <td>Greenway Grameena Infra</td>\n",
       "      <td>308527</td>\n",
       "      <td>2019-03-09T00:00:00+05:30</td>\n",
       "      <td>2019-03-12T00:00:00+05:30</td>\n",
       "      <td>2019-03-09T00:00:00+05:30</td>\n",
       "      <td>105-308527</td>\n",
       "      <td>390436-4</td>\n",
       "      <td>38.0</td>\n",
       "      <td>97.0</td>\n",
       "      <td>1</td>\n",
       "    </tr>\n",
       "    <tr>\n",
       "      <th>4999</th>\n",
       "      <td>Maniknagar</td>\n",
       "      <td>916894</td>\n",
       "      <td>4</td>\n",
       "      <td>Homnabad</td>\n",
       "      <td>Humanabad</td>\n",
       "      <td>2350</td>\n",
       "      <td>Greenway Jumbo Stove GJS1</td>\n",
       "      <td>GJS1</td>\n",
       "      <td>NaN</td>\n",
       "      <td>SKDRDP</td>\n",
       "      <td>Greenway Grameena Infra</td>\n",
       "      <td>165467</td>\n",
       "      <td>2019-01-07T00:00:00+05:30</td>\n",
       "      <td>2019-01-11T00:00:00+05:30</td>\n",
       "      <td>2019-01-07T00:00:00+05:30</td>\n",
       "      <td>154-165467</td>\n",
       "      <td>916894-4</td>\n",
       "      <td>38.0</td>\n",
       "      <td>142.0</td>\n",
       "      <td>1</td>\n",
       "    </tr>\n",
       "  </tbody>\n",
       "</table>\n",
       "</div>"
      ],
      "text/plain": [
       "         Village  Group ID  Member ID Branch Name Circle Name Loan Amount  \\\n",
       "4998    Keregodu    390436          4      Mandya    KEREGODU        2350   \n",
       "4999  Maniknagar    916894          4    Homnabad   Humanabad        2350   \n",
       "\n",
       "                   Product Type Name of Model Product Detail Institution Name  \\\n",
       "4998  Greenway Jumbo Stove GJS1          GJS1            NaN           SKDRDP   \n",
       "4999  Greenway Jumbo Stove GJS1          GJS1            NaN           SKDRDP   \n",
       "\n",
       "            Manufacturer Name  Loan Account Number      Loan Application Date  \\\n",
       "4998  Greenway Grameena Infra               308527  2019-03-09T00:00:00+05:30   \n",
       "4999  Greenway Grameena Infra               165467  2019-01-07T00:00:00+05:30   \n",
       "\n",
       "         Product Installed Date    Document Signature Date     loan_id  \\\n",
       "4998  2019-03-12T00:00:00+05:30  2019-03-09T00:00:00+05:30  105-308527   \n",
       "4999  2019-01-11T00:00:00+05:30  2019-01-07T00:00:00+05:30  154-165467   \n",
       "\n",
       "     household_id  product_id  branch_id  partner_id  \n",
       "4998     390436-4        38.0       97.0           1  \n",
       "4999     916894-4        38.0      142.0           1  "
      ]
     },
     "execution_count": 8,
     "metadata": {},
     "output_type": "execute_result"
    }
   ],
   "source": [
    "# --- Tail ----\n",
    "\n",
    "\n",
    "full_loan_data.tail(2)"
   ]
  },
  {
   "cell_type": "code",
   "execution_count": 9,
   "metadata": {},
   "outputs": [],
   "source": [
    "# Some of the feature donot add any meaning to my data like some \n",
    "# Group ID','Member ID','Circle Name','Institution Name','Manufacturer Name','loan_id','household_id','Loan Account Number','branch_id','partner_id\n",
    "#  ----  Droping the Unseen Data/ Unwanted Data  -------  Manual Analysis ------\n",
    "\n",
    "\n",
    "full_loan_data.drop(['Group ID','Member ID','Circle Name','Institution Name','Manufacturer Name','loan_id','household_id','Loan Account Number','branch_id','partner_id'],inplace=True,axis=1)"
   ]
  },
  {
   "cell_type": "code",
   "execution_count": 10,
   "metadata": {},
   "outputs": [
    {
     "data": {
      "text/plain": [
       "Index(['Village', 'Branch Name', 'Loan Amount', 'Product Type',\n",
       "       'Name of Model', 'Product Detail', 'Loan Application Date',\n",
       "       'Product Installed Date', 'Document Signature Date', 'product_id'],\n",
       "      dtype='object')"
      ]
     },
     "execution_count": 10,
     "metadata": {},
     "output_type": "execute_result"
    }
   ],
   "source": [
    "# ---- Left coloumns  -----\n",
    "\n",
    "\n",
    "full_loan_data.columns"
   ]
  },
  {
   "cell_type": "code",
   "execution_count": 11,
   "metadata": {},
   "outputs": [
    {
     "data": {
      "text/html": [
       "<div>\n",
       "<style scoped>\n",
       "    .dataframe tbody tr th:only-of-type {\n",
       "        vertical-align: middle;\n",
       "    }\n",
       "\n",
       "    .dataframe tbody tr th {\n",
       "        vertical-align: top;\n",
       "    }\n",
       "\n",
       "    .dataframe thead th {\n",
       "        text-align: right;\n",
       "    }\n",
       "</style>\n",
       "<table border=\"1\" class=\"dataframe\">\n",
       "  <thead>\n",
       "    <tr style=\"text-align: right;\">\n",
       "      <th></th>\n",
       "      <th>Village</th>\n",
       "      <th>Branch Name</th>\n",
       "      <th>Loan Amount</th>\n",
       "      <th>Product Type</th>\n",
       "      <th>Name of Model</th>\n",
       "      <th>Product Detail</th>\n",
       "      <th>Loan Application Date</th>\n",
       "      <th>Product Installed Date</th>\n",
       "      <th>Document Signature Date</th>\n",
       "      <th>product_id</th>\n",
       "    </tr>\n",
       "  </thead>\n",
       "  <tbody>\n",
       "    <tr>\n",
       "      <th>0</th>\n",
       "      <td>Honnavalli</td>\n",
       "      <td>Tiptur</td>\n",
       "      <td>15500</td>\n",
       "      <td>Solar Light Selco</td>\n",
       "      <td>SH4HLS</td>\n",
       "      <td>4 COMBI Light</td>\n",
       "      <td>2018-06-12T00:00:00+05:30</td>\n",
       "      <td>2018-06-18T00:00:00+05:30</td>\n",
       "      <td>2018-06-12T00:00:00+05:30</td>\n",
       "      <td>50.0</td>\n",
       "    </tr>\n",
       "    <tr>\n",
       "      <th>1</th>\n",
       "      <td>Amaramudnooru</td>\n",
       "      <td>Sullia</td>\n",
       "      <td>53000</td>\n",
       "      <td>Solar Light Selco</td>\n",
       "      <td>S15HLS</td>\n",
       "      <td>12 CFL + 2 Fan</td>\n",
       "      <td>2019-01-07T00:00:00+05:30</td>\n",
       "      <td>2019-01-10T00:00:00+05:30</td>\n",
       "      <td>2019-01-07T00:00:00+05:30</td>\n",
       "      <td>42.0</td>\n",
       "    </tr>\n",
       "    <tr>\n",
       "      <th>2</th>\n",
       "      <td>PURASABHE</td>\n",
       "      <td>Holenarasipura</td>\n",
       "      <td>9000</td>\n",
       "      <td>Solar Light Selco</td>\n",
       "      <td>EH2HLS</td>\n",
       "      <td>2 LED Light</td>\n",
       "      <td>2018-06-02T00:00:00+05:30</td>\n",
       "      <td>2018-06-04T00:00:00+05:30</td>\n",
       "      <td>2018-06-02T00:00:00+05:30</td>\n",
       "      <td>35.0</td>\n",
       "    </tr>\n",
       "    <tr>\n",
       "      <th>3</th>\n",
       "      <td>Mekalmardi</td>\n",
       "      <td>Bailahongal</td>\n",
       "      <td>8000</td>\n",
       "      <td>Solar Light Selco</td>\n",
       "      <td>EH2HLS</td>\n",
       "      <td>2 LED Light</td>\n",
       "      <td>2018-09-24T00:00:00+05:30</td>\n",
       "      <td>2018-09-25T00:00:00+05:30</td>\n",
       "      <td>2018-09-24T00:00:00+05:30</td>\n",
       "      <td>35.0</td>\n",
       "    </tr>\n",
       "    <tr>\n",
       "      <th>4</th>\n",
       "      <td>Bijkal</td>\n",
       "      <td>Kushtagi</td>\n",
       "      <td>36000</td>\n",
       "      <td>Solar Light Selco</td>\n",
       "      <td>S10HLS</td>\n",
       "      <td>10 CFL</td>\n",
       "      <td>2019-03-15T00:00:00+05:30</td>\n",
       "      <td>2019-03-18T00:00:00+05:30</td>\n",
       "      <td>2019-03-15T00:00:00+05:30</td>\n",
       "      <td>40.0</td>\n",
       "    </tr>\n",
       "  </tbody>\n",
       "</table>\n",
       "</div>"
      ],
      "text/plain": [
       "         Village     Branch Name Loan Amount       Product Type Name of Model  \\\n",
       "0     Honnavalli          Tiptur       15500  Solar Light Selco        SH4HLS   \n",
       "1  Amaramudnooru          Sullia       53000  Solar Light Selco        S15HLS   \n",
       "2      PURASABHE  Holenarasipura        9000  Solar Light Selco        EH2HLS   \n",
       "3     Mekalmardi     Bailahongal        8000  Solar Light Selco        EH2HLS   \n",
       "4         Bijkal        Kushtagi       36000  Solar Light Selco        S10HLS   \n",
       "\n",
       "   Product Detail      Loan Application Date     Product Installed Date  \\\n",
       "0   4 COMBI Light  2018-06-12T00:00:00+05:30  2018-06-18T00:00:00+05:30   \n",
       "1  12 CFL + 2 Fan  2019-01-07T00:00:00+05:30  2019-01-10T00:00:00+05:30   \n",
       "2     2 LED Light  2018-06-02T00:00:00+05:30  2018-06-04T00:00:00+05:30   \n",
       "3     2 LED Light  2018-09-24T00:00:00+05:30  2018-09-25T00:00:00+05:30   \n",
       "4          10 CFL  2019-03-15T00:00:00+05:30  2019-03-18T00:00:00+05:30   \n",
       "\n",
       "     Document Signature Date  product_id  \n",
       "0  2018-06-12T00:00:00+05:30        50.0  \n",
       "1  2019-01-07T00:00:00+05:30        42.0  \n",
       "2  2018-06-02T00:00:00+05:30        35.0  \n",
       "3  2018-09-24T00:00:00+05:30        35.0  \n",
       "4  2019-03-15T00:00:00+05:30        40.0  "
      ]
     },
     "execution_count": 11,
     "metadata": {},
     "output_type": "execute_result"
    }
   ],
   "source": [
    "# ---- Left Data/Head ---- \n",
    "\n",
    "\n",
    "full_loan_data.head()"
   ]
  },
  {
   "cell_type": "code",
   "execution_count": 12,
   "metadata": {},
   "outputs": [
    {
     "data": {
      "text/plain": [
       "(5000, 10)"
      ]
     },
     "execution_count": 12,
     "metadata": {},
     "output_type": "execute_result"
    }
   ],
   "source": [
    "#  ---- Shape  -----\n",
    "\n",
    "\n",
    "full_loan_data.shape"
   ]
  },
  {
   "cell_type": "markdown",
   "metadata": {},
   "source": [
    "# -- observed --\n",
    "    By First look it seems we should have below feature in Numerical format\n",
    "        1) Loan Amount, \n",
    "        2) product_id, "
   ]
  },
  {
   "cell_type": "code",
   "execution_count": 13,
   "metadata": {},
   "outputs": [
    {
     "name": "stdout",
     "output_type": "stream",
     "text": [
      "<class 'pandas.core.frame.DataFrame'>\n",
      "RangeIndex: 5000 entries, 0 to 4999\n",
      "Data columns (total 10 columns):\n",
      "Village                    4993 non-null object\n",
      "Branch Name                5000 non-null object\n",
      "Loan Amount                5000 non-null object\n",
      "Product Type               5000 non-null object\n",
      "Name of Model              5000 non-null object\n",
      "Product Detail             1413 non-null object\n",
      "Loan Application Date      5000 non-null object\n",
      "Product Installed Date     5000 non-null object\n",
      "Document Signature Date    5000 non-null object\n",
      "product_id                 5000 non-null float64\n",
      "dtypes: float64(1), object(9)\n",
      "memory usage: 390.7+ KB\n"
     ]
    }
   ],
   "source": [
    "# Info the Data --- Data Type -- Checking ---\n",
    "full_loan_data.info()"
   ]
  },
  {
   "cell_type": "markdown",
   "metadata": {},
   "source": [
    "# -- observed --\n",
    "     Its seems Loan Amount feature is not correct Data Type "
   ]
  },
  {
   "cell_type": "code",
   "execution_count": 14,
   "metadata": {},
   "outputs": [
    {
     "name": "stdout",
     "output_type": "stream",
     "text": [
      "This is not in Correct Format -->   2017-12-09T00:00:00+05:30\n"
     ]
    }
   ],
   "source": [
    "# Applying the float to the Loan Amount Columns \n",
    "#  ---- Data Type Convertion  -------\n",
    "\n",
    "\n",
    "def checktype_error(x):\n",
    "    if x.isnumeric():\n",
    "        return x\n",
    "    else:\n",
    "        print('This is not in Correct Format -->  ',str(x))\n",
    "        return np.nan\n",
    "    \n",
    "full_loan_data['Loan Amount']=full_loan_data['Loan Amount'].apply(lambda x: checktype_error(x))"
   ]
  },
  {
   "cell_type": "markdown",
   "metadata": {},
   "source": [
    "# -- observed --\n",
    "\n",
    "    Checking orignal data to look for the possible step can be taken"
   ]
  },
  {
   "cell_type": "code",
   "execution_count": 15,
   "metadata": {},
   "outputs": [
    {
     "data": {
      "text/html": [
       "<div>\n",
       "<style scoped>\n",
       "    .dataframe tbody tr th:only-of-type {\n",
       "        vertical-align: middle;\n",
       "    }\n",
       "\n",
       "    .dataframe tbody tr th {\n",
       "        vertical-align: top;\n",
       "    }\n",
       "\n",
       "    .dataframe thead th {\n",
       "        text-align: right;\n",
       "    }\n",
       "</style>\n",
       "<table border=\"1\" class=\"dataframe\">\n",
       "  <thead>\n",
       "    <tr style=\"text-align: right;\">\n",
       "      <th></th>\n",
       "      <th>Village</th>\n",
       "      <th>Branch Name</th>\n",
       "      <th>Loan Amount</th>\n",
       "      <th>Product Type</th>\n",
       "      <th>Name of Model</th>\n",
       "      <th>Product Detail</th>\n",
       "      <th>Loan Application Date</th>\n",
       "      <th>Product Installed Date</th>\n",
       "      <th>Document Signature Date</th>\n",
       "      <th>product_id</th>\n",
       "    </tr>\n",
       "  </thead>\n",
       "  <tbody>\n",
       "    <tr>\n",
       "      <th>4113</th>\n",
       "      <td>Not Available</td>\n",
       "      <td>Kundagol</td>\n",
       "      <td>NaN</td>\n",
       "      <td>Solar Light Selco</td>\n",
       "      <td>SH4HLS</td>\n",
       "      <td>4 COMBI Light</td>\n",
       "      <td>Solar Light Selco</td>\n",
       "      <td>2017-12-13T00:00:00+05:30</td>\n",
       "      <td>2017-12-09T00:00:00+05:30</td>\n",
       "      <td>50.0</td>\n",
       "    </tr>\n",
       "  </tbody>\n",
       "</table>\n",
       "</div>"
      ],
      "text/plain": [
       "            Village Branch Name Loan Amount       Product Type Name of Model  \\\n",
       "4113  Not Available    Kundagol         NaN  Solar Light Selco        SH4HLS   \n",
       "\n",
       "     Product Detail Loan Application Date     Product Installed Date  \\\n",
       "4113  4 COMBI Light     Solar Light Selco  2017-12-13T00:00:00+05:30   \n",
       "\n",
       "        Document Signature Date  product_id  \n",
       "4113  2017-12-09T00:00:00+05:30        50.0  "
      ]
     },
     "execution_count": 15,
     "metadata": {},
     "output_type": "execute_result"
    }
   ],
   "source": [
    "# --- Data Checking  ----- which is not in correct format \n",
    "\n",
    "\n",
    "full_loan_data[full_loan_data['Loan Amount'].isnull()]"
   ]
  },
  {
   "cell_type": "code",
   "execution_count": 16,
   "metadata": {},
   "outputs": [],
   "source": [
    "# -----   As We can see most of data is invalid like Village, Loan Application Date, Loan Amount  \n",
    "# Droping the record which its row number\n",
    "\n",
    "\n",
    "full_loan_data.drop([4113],inplace=True)"
   ]
  },
  {
   "cell_type": "markdown",
   "metadata": {},
   "source": [
    "# Data Type Convertion"
   ]
  },
  {
   "cell_type": "code",
   "execution_count": 17,
   "metadata": {},
   "outputs": [],
   "source": [
    "#  ---- Loan Amount -- Data Convetion to Float ------\n",
    "\n",
    "\n",
    "full_loan_data['Loan Amount']=full_loan_data['Loan Amount'].astype('float64')"
   ]
  },
  {
   "cell_type": "markdown",
   "metadata": {},
   "source": [
    "# -- observed --\n",
    "\n",
    "    Also some below data is also not in corrent format \n",
    "        1) Loan Application Date - (Self explanatory) \n",
    "        2) Product Installed Date - (Self explanatory) \n",
    "        3) Document Signature Date - Date of signing the document for loan "
   ]
  },
  {
   "cell_type": "code",
   "execution_count": 18,
   "metadata": {},
   "outputs": [],
   "source": [
    "#  --- Convetion The Data to Date time format -----\n",
    "\n",
    "\n",
    "full_loan_data['Product Installed Date']=pd.to_datetime(full_loan_data['Product Installed Date'])\n",
    "full_loan_data['Document Signature Date']=pd.to_datetime(full_loan_data['Document Signature Date'])\n",
    "full_loan_data['Loan Application Date']=pd.to_datetime(full_loan_data['Loan Application Date'])"
   ]
  },
  {
   "cell_type": "code",
   "execution_count": 19,
   "metadata": {},
   "outputs": [
    {
     "name": "stdout",
     "output_type": "stream",
     "text": [
      "<class 'pandas.core.frame.DataFrame'>\n",
      "Int64Index: 4999 entries, 0 to 4999\n",
      "Data columns (total 10 columns):\n",
      "Village                    4992 non-null object\n",
      "Branch Name                4999 non-null object\n",
      "Loan Amount                4999 non-null float64\n",
      "Product Type               4999 non-null object\n",
      "Name of Model              4999 non-null object\n",
      "Product Detail             1412 non-null object\n",
      "Loan Application Date      4999 non-null datetime64[ns, pytz.FixedOffset(330)]\n",
      "Product Installed Date     4999 non-null datetime64[ns, pytz.FixedOffset(330)]\n",
      "Document Signature Date    4999 non-null datetime64[ns, pytz.FixedOffset(330)]\n",
      "product_id                 4999 non-null float64\n",
      "dtypes: datetime64[ns, pytz.FixedOffset(330)](3), float64(2), object(5)\n",
      "memory usage: 429.6+ KB\n"
     ]
    }
   ],
   "source": [
    "#  -----  checking the Data-set and there Data-Types \n",
    "# ------- All the data type seems correct and now are in right format\n",
    "\n",
    "full_loan_data.info()"
   ]
  },
  {
   "cell_type": "markdown",
   "metadata": {},
   "source": [
    "# Missing Value Treatment "
   ]
  },
  {
   "cell_type": "code",
   "execution_count": 20,
   "metadata": {},
   "outputs": [
    {
     "data": {
      "text/plain": [
       "Village                    0.001400\n",
       "Branch Name                0.000000\n",
       "Loan Amount                0.000000\n",
       "Product Type               0.000000\n",
       "Name of Model              0.000000\n",
       "Product Detail             0.717544\n",
       "Loan Application Date      0.000000\n",
       "Product Installed Date     0.000000\n",
       "Document Signature Date    0.000000\n",
       "product_id                 0.000000\n",
       "dtype: float64"
      ]
     },
     "execution_count": 20,
     "metadata": {},
     "output_type": "execute_result"
    }
   ],
   "source": [
    "#  --- Percentage of data that is missing in a feature \n",
    "\n",
    "\n",
    "full_loan_data.isnull().sum()/len(full_loan_data)"
   ]
  },
  {
   "cell_type": "markdown",
   "metadata": {},
   "source": [
    "# -- observed --\n",
    "    We have some Null value  \n",
    "        1) Product Detail, \n",
    "        2) Village, "
   ]
  },
  {
   "cell_type": "code",
   "execution_count": 21,
   "metadata": {},
   "outputs": [
    {
     "data": {
      "text/plain": [
       "Bijapur CMC      34\n",
       "Challakere       20\n",
       "Soravanahalli    18\n",
       "Sirigere         17\n",
       "Name: Village, dtype: int64"
      ]
     },
     "execution_count": 21,
     "metadata": {},
     "output_type": "execute_result"
    }
   ],
   "source": [
    "#  ------ looking for Top occuring Village taken loan\n",
    "\n",
    "\n",
    "full_loan_data['Village'].value_counts().head(4) "
   ]
  },
  {
   "cell_type": "code",
   "execution_count": 22,
   "metadata": {},
   "outputs": [
    {
     "data": {
      "text/plain": [
       "array(['Bijapur CMC'], dtype=object)"
      ]
     },
     "execution_count": 22,
     "metadata": {},
     "output_type": "execute_result"
    }
   ],
   "source": [
    "# looking for mode to replace the null values occuring Village for loan\n",
    "\n",
    "\n",
    "full_loan_data['Village'].mode().values"
   ]
  },
  {
   "cell_type": "code",
   "execution_count": 23,
   "metadata": {},
   "outputs": [],
   "source": [
    "# ---- Creating a new category in the Village as diffence b/w mode and 2nd occuring data is to much \n",
    "# ----- Repalcing Null with the other category \n",
    "# ------ (optinal)   We should go for Binning the data but I am not going for it as its highly distibuted with low fequency data.\n",
    "\n",
    "\n",
    "full_loan_data['Village'].fillna('Others',inplace=True)"
   ]
  },
  {
   "cell_type": "code",
   "execution_count": 24,
   "metadata": {},
   "outputs": [],
   "source": [
    "# ---- Although Product Detail columns most of the details are black & Null but we cannot drop the columns as its \n",
    "      #   giving the important information while taking loan \n",
    "# ----- IT's a unique identification of the product that is going to be brought after taking loan\n",
    "# ----- Replacing null value with others \n",
    "\n",
    "\n",
    "full_loan_data['Product Detail'].fillna('Others',inplace=True)"
   ]
  },
  {
   "cell_type": "code",
   "execution_count": 25,
   "metadata": {},
   "outputs": [
    {
     "data": {
      "text/plain": [
       "Village                    0.0\n",
       "Branch Name                0.0\n",
       "Loan Amount                0.0\n",
       "Product Type               0.0\n",
       "Name of Model              0.0\n",
       "Product Detail             0.0\n",
       "Loan Application Date      0.0\n",
       "Product Installed Date     0.0\n",
       "Document Signature Date    0.0\n",
       "product_id                 0.0\n",
       "dtype: float64"
      ]
     },
     "execution_count": 25,
     "metadata": {},
     "output_type": "execute_result"
    }
   ],
   "source": [
    "#  ---- Checking the null data percentage data\n",
    "\n",
    "\n",
    "full_loan_data.isnull().sum()/len(full_loan_data)"
   ]
  },
  {
   "cell_type": "markdown",
   "metadata": {},
   "source": [
    "# Data Unique Values"
   ]
  },
  {
   "cell_type": "code",
   "execution_count": 26,
   "metadata": {},
   "outputs": [
    {
     "data": {
      "text/plain": [
       "Village                    2543\n",
       "Branch Name                 160\n",
       "Loan Amount                  86\n",
       "Product Type                  3\n",
       "Name of Model                14\n",
       "Product Detail               13\n",
       "Loan Application Date       331\n",
       "Product Installed Date      226\n",
       "Document Signature Date     331\n",
       "product_id                   14\n",
       "dtype: int64"
      ]
     },
     "execution_count": 26,
     "metadata": {},
     "output_type": "execute_result"
    }
   ],
   "source": [
    "## ---- Unique Values \n",
    "\n",
    "full_loan_data.nunique()"
   ]
  },
  {
   "cell_type": "code",
   "execution_count": 27,
   "metadata": {},
   "outputs": [
    {
     "data": {
      "text/html": [
       "<div>\n",
       "<style scoped>\n",
       "    .dataframe tbody tr th:only-of-type {\n",
       "        vertical-align: middle;\n",
       "    }\n",
       "\n",
       "    .dataframe tbody tr th {\n",
       "        vertical-align: top;\n",
       "    }\n",
       "\n",
       "    .dataframe thead th {\n",
       "        text-align: right;\n",
       "    }\n",
       "</style>\n",
       "<table border=\"1\" class=\"dataframe\">\n",
       "  <thead>\n",
       "    <tr style=\"text-align: right;\">\n",
       "      <th></th>\n",
       "      <th>Village</th>\n",
       "      <th>Branch Name</th>\n",
       "      <th>Loan Amount</th>\n",
       "      <th>Product Type</th>\n",
       "      <th>Name of Model</th>\n",
       "      <th>Product Detail</th>\n",
       "      <th>Loan Application Date</th>\n",
       "      <th>Product Installed Date</th>\n",
       "      <th>Document Signature Date</th>\n",
       "      <th>product_id</th>\n",
       "    </tr>\n",
       "  </thead>\n",
       "  <tbody>\n",
       "    <tr>\n",
       "      <th>0</th>\n",
       "      <td>Honnavalli</td>\n",
       "      <td>Tiptur</td>\n",
       "      <td>15500.0</td>\n",
       "      <td>Solar Light Selco</td>\n",
       "      <td>SH4HLS</td>\n",
       "      <td>4 COMBI Light</td>\n",
       "      <td>2018-06-12 00:00:00+05:30</td>\n",
       "      <td>2018-06-18 00:00:00+05:30</td>\n",
       "      <td>2018-06-12 00:00:00+05:30</td>\n",
       "      <td>50.0</td>\n",
       "    </tr>\n",
       "    <tr>\n",
       "      <th>1</th>\n",
       "      <td>Amaramudnooru</td>\n",
       "      <td>Sullia</td>\n",
       "      <td>53000.0</td>\n",
       "      <td>Solar Light Selco</td>\n",
       "      <td>S15HLS</td>\n",
       "      <td>12 CFL + 2 Fan</td>\n",
       "      <td>2019-01-07 00:00:00+05:30</td>\n",
       "      <td>2019-01-10 00:00:00+05:30</td>\n",
       "      <td>2019-01-07 00:00:00+05:30</td>\n",
       "      <td>42.0</td>\n",
       "    </tr>\n",
       "  </tbody>\n",
       "</table>\n",
       "</div>"
      ],
      "text/plain": [
       "         Village Branch Name  Loan Amount       Product Type Name of Model  \\\n",
       "0     Honnavalli      Tiptur      15500.0  Solar Light Selco        SH4HLS   \n",
       "1  Amaramudnooru      Sullia      53000.0  Solar Light Selco        S15HLS   \n",
       "\n",
       "   Product Detail     Loan Application Date    Product Installed Date  \\\n",
       "0   4 COMBI Light 2018-06-12 00:00:00+05:30 2018-06-18 00:00:00+05:30   \n",
       "1  12 CFL + 2 Fan 2019-01-07 00:00:00+05:30 2019-01-10 00:00:00+05:30   \n",
       "\n",
       "    Document Signature Date  product_id  \n",
       "0 2018-06-12 00:00:00+05:30        50.0  \n",
       "1 2019-01-07 00:00:00+05:30        42.0  "
      ]
     },
     "execution_count": 27,
     "metadata": {},
     "output_type": "execute_result"
    }
   ],
   "source": [
    "## ------ Head \n",
    "\n",
    "\n",
    "full_loan_data.head(2)"
   ]
  },
  {
   "cell_type": "code",
   "execution_count": 28,
   "metadata": {},
   "outputs": [
    {
     "data": {
      "text/plain": [
       "(4999, 10)"
      ]
     },
     "execution_count": 28,
     "metadata": {},
     "output_type": "execute_result"
    }
   ],
   "source": [
    "# --- Data Left shape ----\n",
    "\n",
    "full_loan_data.shape"
   ]
  },
  {
   "cell_type": "markdown",
   "metadata": {},
   "source": [
    "# Statistical analysis"
   ]
  },
  {
   "cell_type": "code",
   "execution_count": 29,
   "metadata": {},
   "outputs": [
    {
     "data": {
      "text/plain": [
       "Village                                       yallur\n",
       "Branch Name                                   gadaga\n",
       "Loan Amount                                    90000\n",
       "Product Type                       Solar Light Selco\n",
       "Name of Model                                 SH4HLS\n",
       "Product Detail                                Others\n",
       "Loan Application Date      2019-04-24 00:00:00+05:30\n",
       "Product Installed Date     2019-04-26 00:00:00+05:30\n",
       "Document Signature Date    2019-04-24 00:00:00+05:30\n",
       "product_id                                        50\n",
       "dtype: object"
      ]
     },
     "execution_count": 29,
     "metadata": {},
     "output_type": "execute_result"
    }
   ],
   "source": [
    "#  ---- Maximum in data ----\n",
    "\n",
    "\n",
    "full_loan_data.max()"
   ]
  },
  {
   "cell_type": "code",
   "execution_count": 30,
   "metadata": {},
   "outputs": [
    {
     "data": {
      "text/plain": [
       "Village                                    13ne Ward\n",
       "Branch Name                                 Afzalpur\n",
       "Loan Amount                                     1240\n",
       "Product Type                        Cook Stove GSSV3\n",
       "Name of Model                                 BH4HLS\n",
       "Product Detail                                10 CFL\n",
       "Loan Application Date      2017-06-26 00:00:00+05:30\n",
       "Product Installed Date     2017-10-02 00:00:00+05:30\n",
       "Document Signature Date    2017-06-26 00:00:00+05:30\n",
       "product_id                                        23\n",
       "dtype: object"
      ]
     },
     "execution_count": 30,
     "metadata": {},
     "output_type": "execute_result"
    }
   ],
   "source": [
    "#  ---- Minimun in data ----\n",
    "\n",
    "\n",
    "full_loan_data.min()"
   ]
  },
  {
   "cell_type": "code",
   "execution_count": 31,
   "metadata": {},
   "outputs": [
    {
     "data": {
      "text/plain": [
       "Bijapur CMC    34\n",
       "Challakere     20\n",
       "Name: Village, dtype: int64"
      ]
     },
     "execution_count": 31,
     "metadata": {},
     "output_type": "execute_result"
    }
   ],
   "source": [
    "full_loan_data['Village'].value_counts().head(2)"
   ]
  },
  {
   "cell_type": "code",
   "execution_count": 32,
   "metadata": {},
   "outputs": [
    {
     "data": {
      "text/plain": [
       "Chikodi       121\n",
       "Turuvekere    108\n",
       "Name: Branch Name, dtype: int64"
      ]
     },
     "execution_count": 32,
     "metadata": {},
     "output_type": "execute_result"
    }
   ],
   "source": [
    "full_loan_data['Branch Name'].value_counts().head(2)"
   ]
  },
  {
   "cell_type": "code",
   "execution_count": 33,
   "metadata": {},
   "outputs": [
    {
     "data": {
      "text/plain": [
       "Greenway Jumbo Stove GJS1    3151\n",
       "Solar Light Selco            1412\n",
       "Name: Product Type, dtype: int64"
      ]
     },
     "execution_count": 33,
     "metadata": {},
     "output_type": "execute_result"
    }
   ],
   "source": [
    "full_loan_data['Product Type'].value_counts().head(2)"
   ]
  },
  {
   "cell_type": "code",
   "execution_count": 34,
   "metadata": {},
   "outputs": [
    {
     "data": {
      "text/plain": [
       "GJS1    3151\n",
       "Name: Name of Model, dtype: int64"
      ]
     },
     "execution_count": 34,
     "metadata": {},
     "output_type": "execute_result"
    }
   ],
   "source": [
    "full_loan_data[full_loan_data['Product Type']=='Greenway Jumbo Stove GJS1']['Name of Model'].value_counts()"
   ]
  },
  {
   "cell_type": "code",
   "execution_count": 35,
   "metadata": {},
   "outputs": [
    {
     "data": {
      "text/plain": [
       "38.0    3151\n",
       "37.0     436\n",
       "Name: product_id, dtype: int64"
      ]
     },
     "execution_count": 35,
     "metadata": {},
     "output_type": "execute_result"
    }
   ],
   "source": [
    "full_loan_data['product_id'].value_counts().head(2)"
   ]
  },
  {
   "cell_type": "code",
   "execution_count": 36,
   "metadata": {},
   "outputs": [
    {
     "data": {
      "text/plain": [
       "46.0    6\n",
       "23.0    5\n",
       "42.0    5\n",
       "Name: product_id, dtype: int64"
      ]
     },
     "execution_count": 36,
     "metadata": {},
     "output_type": "execute_result"
    }
   ],
   "source": [
    "full_loan_data['product_id'].value_counts().tail(3)"
   ]
  },
  {
   "cell_type": "code",
   "execution_count": 37,
   "metadata": {},
   "outputs": [
    {
     "data": {
      "text/plain": [
       "Timedelta('0 days 00:00:00')"
      ]
     },
     "execution_count": 37,
     "metadata": {},
     "output_type": "execute_result"
    }
   ],
   "source": [
    "(full_loan_data['Loan Application Date']-full_loan_data['Document Signature Date']).sum()"
   ]
  },
  {
   "cell_type": "markdown",
   "metadata": {},
   "source": [
    "# -- observed --\n",
    "    Above Analysis with data from min(), max() and Value_count in report , we can say below things -- > \n",
    "        1) Loan range is between 90000 to 1240\n",
    "        2) Data seems to be between 2017-06-26 00:00:00+05:30 to 2019-04-24 00:00:00+05:30 \n",
    "        3) Villagers from 'Bijapur CMC' are most likely to demand for loan. \n",
    "        4) Branch in 'Chikodi' is most likely to provide the loan to there customer \n",
    "        5) 'Greenway Jumbo Stove GJS1' is the most demanding Product Type\n",
    "        6) 'GJS1' is the most demanding Model in 'Greenway Jumbo Stove GJS1' \n",
    "        7) Product with product_id i.e. combination of (Product Type', 'Name of Model', 'Product Detail), \n",
    "                  --- 38 is most demanding product.\n",
    "                  --- 23 & 42 are least demanding product.\n",
    "        8) Document Signature Date & Loan Application Date are same for all the records. There is a probability it may be auto signed.\n"
   ]
  },
  {
   "cell_type": "code",
   "execution_count": 38,
   "metadata": {},
   "outputs": [],
   "source": [
    "# --- Document Signature Date & Loan Application Date are same for all the records So we can drop the Document Signature Date feature \n",
    "\n",
    "\n",
    "full_loan_data.drop('Document Signature Date',axis=1,inplace=True)"
   ]
  },
  {
   "cell_type": "markdown",
   "metadata": {},
   "source": [
    "# Data Extraction and Adding new Feature to Data"
   ]
  },
  {
   "cell_type": "code",
   "execution_count": 39,
   "metadata": {},
   "outputs": [],
   "source": [
    "# ----- Add data seems to be so we need to create some features  and look for some pattern \n",
    "# ------ Extracting the data for date -- > Date, Month and Year\n",
    "\n",
    "\n",
    "full_loan_data['Loan Application Year']=full_loan_data['Loan Application Date'].apply(lambda x : x.year)\n",
    "full_loan_data['Loan Application Month']=full_loan_data['Loan Application Date'].apply(lambda x : x.month)\n",
    "full_loan_data['Loan Application Day']=full_loan_data['Loan Application Date'].apply(lambda x : x.day)\n",
    "\n",
    "full_loan_data['Product Installed Year']=full_loan_data['Product Installed Date'].apply(lambda x : x.year)\n",
    "full_loan_data['Product Installed Month']=full_loan_data['Product Installed Date'].apply(lambda x : x.month)\n",
    "full_loan_data['Product Installed Day']=full_loan_data['Product Installed Date'].apply(lambda x : x.day)"
   ]
  },
  {
   "cell_type": "code",
   "execution_count": 40,
   "metadata": {},
   "outputs": [],
   "source": [
    "# ---- Createing a new feature which will show the diffence b/w Processed time and Application applied date\n",
    "\n",
    "\n",
    "full_loan_data['Loan Processed Time']=full_loan_data['Product Installed Date']-full_loan_data['Loan Application Date']"
   ]
  },
  {
   "cell_type": "code",
   "execution_count": 41,
   "metadata": {},
   "outputs": [],
   "source": [
    "# ---- type convertion of new data created \n",
    "\n",
    "\n",
    "full_loan_data['Loan Processed Time']=full_loan_data['Loan Processed Time'].apply(lambda x: str(x).split(' ')[0])\n",
    "full_loan_data['Loan Processed Time']=full_loan_data['Loan Processed Time'].astype(int)"
   ]
  },
  {
   "cell_type": "code",
   "execution_count": 42,
   "metadata": {},
   "outputs": [],
   "source": [
    "# ---- As we already got full inforamtion or data that can we extracted we can drop unused feature.\n",
    "# ---- Dropping the unwanted feature\n",
    "\n",
    "\n",
    "full_loan_data.drop(['Product Installed Date','Loan Application Date'],axis=1,inplace=True)"
   ]
  },
  {
   "cell_type": "code",
   "execution_count": 43,
   "metadata": {},
   "outputs": [
    {
     "data": {
      "text/html": [
       "<div>\n",
       "<style scoped>\n",
       "    .dataframe tbody tr th:only-of-type {\n",
       "        vertical-align: middle;\n",
       "    }\n",
       "\n",
       "    .dataframe tbody tr th {\n",
       "        vertical-align: top;\n",
       "    }\n",
       "\n",
       "    .dataframe thead th {\n",
       "        text-align: right;\n",
       "    }\n",
       "</style>\n",
       "<table border=\"1\" class=\"dataframe\">\n",
       "  <thead>\n",
       "    <tr style=\"text-align: right;\">\n",
       "      <th></th>\n",
       "      <th>Village</th>\n",
       "      <th>Branch Name</th>\n",
       "      <th>Loan Amount</th>\n",
       "      <th>Product Type</th>\n",
       "      <th>Name of Model</th>\n",
       "      <th>Product Detail</th>\n",
       "      <th>product_id</th>\n",
       "      <th>Loan Application Year</th>\n",
       "      <th>Loan Application Month</th>\n",
       "      <th>Loan Application Day</th>\n",
       "      <th>Product Installed Year</th>\n",
       "      <th>Product Installed Month</th>\n",
       "      <th>Product Installed Day</th>\n",
       "      <th>Loan Processed Time</th>\n",
       "    </tr>\n",
       "  </thead>\n",
       "  <tbody>\n",
       "    <tr>\n",
       "      <th>475</th>\n",
       "      <td>Bilgi</td>\n",
       "      <td>Bagalakote</td>\n",
       "      <td>2350.0</td>\n",
       "      <td>Greenway Jumbo Stove GJS1</td>\n",
       "      <td>GJS1</td>\n",
       "      <td>Others</td>\n",
       "      <td>38.0</td>\n",
       "      <td>2018</td>\n",
       "      <td>9</td>\n",
       "      <td>5</td>\n",
       "      <td>2018</td>\n",
       "      <td>9</td>\n",
       "      <td>3</td>\n",
       "      <td>-2</td>\n",
       "    </tr>\n",
       "    <tr>\n",
       "      <th>1600</th>\n",
       "      <td>Kemmannu</td>\n",
       "      <td>Udupi</td>\n",
       "      <td>15500.0</td>\n",
       "      <td>Solar Light Selco</td>\n",
       "      <td>SH4HLS</td>\n",
       "      <td>4 COMBI Light</td>\n",
       "      <td>50.0</td>\n",
       "      <td>2018</td>\n",
       "      <td>11</td>\n",
       "      <td>27</td>\n",
       "      <td>2018</td>\n",
       "      <td>11</td>\n",
       "      <td>22</td>\n",
       "      <td>-5</td>\n",
       "    </tr>\n",
       "    <tr>\n",
       "      <th>3296</th>\n",
       "      <td>Thandaga</td>\n",
       "      <td>Turuvekere</td>\n",
       "      <td>1240.0</td>\n",
       "      <td>Cook Stove GSSV3</td>\n",
       "      <td>GSSV3</td>\n",
       "      <td>Others</td>\n",
       "      <td>37.0</td>\n",
       "      <td>2017</td>\n",
       "      <td>10</td>\n",
       "      <td>12</td>\n",
       "      <td>2017</td>\n",
       "      <td>10</td>\n",
       "      <td>11</td>\n",
       "      <td>-1</td>\n",
       "    </tr>\n",
       "    <tr>\n",
       "      <th>3332</th>\n",
       "      <td>Kalyianpur</td>\n",
       "      <td>Udupi</td>\n",
       "      <td>2350.0</td>\n",
       "      <td>Greenway Jumbo Stove GJS1</td>\n",
       "      <td>GJS1</td>\n",
       "      <td>Others</td>\n",
       "      <td>38.0</td>\n",
       "      <td>2019</td>\n",
       "      <td>4</td>\n",
       "      <td>19</td>\n",
       "      <td>2019</td>\n",
       "      <td>4</td>\n",
       "      <td>18</td>\n",
       "      <td>-1</td>\n",
       "    </tr>\n",
       "  </tbody>\n",
       "</table>\n",
       "</div>"
      ],
      "text/plain": [
       "         Village Branch Name  Loan Amount               Product Type  \\\n",
       "475        Bilgi  Bagalakote       2350.0  Greenway Jumbo Stove GJS1   \n",
       "1600    Kemmannu       Udupi      15500.0          Solar Light Selco   \n",
       "3296    Thandaga  Turuvekere       1240.0           Cook Stove GSSV3   \n",
       "3332  Kalyianpur       Udupi       2350.0  Greenway Jumbo Stove GJS1   \n",
       "\n",
       "     Name of Model Product Detail  product_id  Loan Application Year  \\\n",
       "475           GJS1         Others        38.0                   2018   \n",
       "1600        SH4HLS  4 COMBI Light        50.0                   2018   \n",
       "3296         GSSV3         Others        37.0                   2017   \n",
       "3332          GJS1         Others        38.0                   2019   \n",
       "\n",
       "      Loan Application Month  Loan Application Day  Product Installed Year  \\\n",
       "475                        9                     5                    2018   \n",
       "1600                      11                    27                    2018   \n",
       "3296                      10                    12                    2017   \n",
       "3332                       4                    19                    2019   \n",
       "\n",
       "      Product Installed Month  Product Installed Day  Loan Processed Time  \n",
       "475                         9                      3                   -2  \n",
       "1600                       11                     22                   -5  \n",
       "3296                       10                     11                   -1  \n",
       "3332                        4                     18                   -1  "
      ]
     },
     "execution_count": 43,
     "metadata": {},
     "output_type": "execute_result"
    }
   ],
   "source": [
    "# --- checking for time taken for process the application as \n",
    "#        for our case Loan Application Date  should always be gratter then 0\n",
    "\n",
    "full_loan_data[full_loan_data['Loan Processed Time']<0]"
   ]
  },
  {
   "cell_type": "markdown",
   "metadata": {},
   "source": [
    "# -- observed --\n",
    "    its seems there is some mistake while processing with the application So we need to fix the details\n",
    "    swapping the date with each other So we could get prositive values for our records"
   ]
  },
  {
   "cell_type": "code",
   "execution_count": 44,
   "metadata": {},
   "outputs": [],
   "source": [
    "list_data=full_loan_data[full_loan_data['Loan Processed Time']<0].index\n",
    "for i in list_data:\n",
    "    temp=full_loan_data.loc[i,'Product Installed Day']\n",
    "    full_loan_data.loc[i,'Product Installed Day']=full_loan_data.loc[i,'Loan Application Day']\n",
    "    full_loan_data.loc[i,'Loan Application Day']=temp\n",
    "    full_loan_data.loc[i,'Loan Processed Time']=full_loan_data.loc[i,'Product Installed Day']-full_loan_data.loc[i,'Loan Application Day']"
   ]
  },
  {
   "cell_type": "code",
   "execution_count": 45,
   "metadata": {},
   "outputs": [
    {
     "data": {
      "text/html": [
       "<div>\n",
       "<style scoped>\n",
       "    .dataframe tbody tr th:only-of-type {\n",
       "        vertical-align: middle;\n",
       "    }\n",
       "\n",
       "    .dataframe tbody tr th {\n",
       "        vertical-align: top;\n",
       "    }\n",
       "\n",
       "    .dataframe thead th {\n",
       "        text-align: right;\n",
       "    }\n",
       "</style>\n",
       "<table border=\"1\" class=\"dataframe\">\n",
       "  <thead>\n",
       "    <tr style=\"text-align: right;\">\n",
       "      <th></th>\n",
       "      <th>Village</th>\n",
       "      <th>Branch Name</th>\n",
       "      <th>Loan Amount</th>\n",
       "      <th>Product Type</th>\n",
       "      <th>Name of Model</th>\n",
       "      <th>Product Detail</th>\n",
       "      <th>product_id</th>\n",
       "      <th>Loan Application Year</th>\n",
       "      <th>Loan Application Month</th>\n",
       "      <th>Loan Application Day</th>\n",
       "      <th>Product Installed Year</th>\n",
       "      <th>Product Installed Month</th>\n",
       "      <th>Product Installed Day</th>\n",
       "      <th>Loan Processed Time</th>\n",
       "    </tr>\n",
       "  </thead>\n",
       "  <tbody>\n",
       "  </tbody>\n",
       "</table>\n",
       "</div>"
      ],
      "text/plain": [
       "Empty DataFrame\n",
       "Columns: [Village, Branch Name, Loan Amount, Product Type, Name of Model, Product Detail, product_id, Loan Application Year, Loan Application Month, Loan Application Day, Product Installed Year, Product Installed Month, Product Installed Day, Loan Processed Time]\n",
       "Index: []"
      ]
     },
     "execution_count": 45,
     "metadata": {},
     "output_type": "execute_result"
    }
   ],
   "source": [
    "# --- checking for time taken for process the application as \n",
    "#        for our case Loan Application Date  should always be gratter then 0\n",
    "\n",
    "full_loan_data[full_loan_data['Loan Processed Time']<0]"
   ]
  },
  {
   "cell_type": "markdown",
   "metadata": {},
   "source": [
    "# Data Clubbing "
   ]
  },
  {
   "cell_type": "code",
   "execution_count": 46,
   "metadata": {},
   "outputs": [
    {
     "data": {
      "text/html": [
       "<div>\n",
       "<style scoped>\n",
       "    .dataframe tbody tr th:only-of-type {\n",
       "        vertical-align: middle;\n",
       "    }\n",
       "\n",
       "    .dataframe tbody tr th {\n",
       "        vertical-align: top;\n",
       "    }\n",
       "\n",
       "    .dataframe thead th {\n",
       "        text-align: right;\n",
       "    }\n",
       "</style>\n",
       "<table border=\"1\" class=\"dataframe\">\n",
       "  <thead>\n",
       "    <tr style=\"text-align: right;\">\n",
       "      <th></th>\n",
       "      <th>Product Type</th>\n",
       "      <th>Name of Model</th>\n",
       "      <th>Product Detail</th>\n",
       "      <th>product_id</th>\n",
       "    </tr>\n",
       "  </thead>\n",
       "  <tbody>\n",
       "    <tr>\n",
       "      <th>0</th>\n",
       "      <td>Solar Light Selco</td>\n",
       "      <td>SH4HLS</td>\n",
       "      <td>4 COMBI Light</td>\n",
       "      <td>50.0</td>\n",
       "    </tr>\n",
       "    <tr>\n",
       "      <th>4109</th>\n",
       "      <td>Solar Light Selco</td>\n",
       "      <td>SB9HLS</td>\n",
       "      <td>9 CFL</td>\n",
       "      <td>48.0</td>\n",
       "    </tr>\n",
       "    <tr>\n",
       "      <th>654</th>\n",
       "      <td>Solar Light Selco</td>\n",
       "      <td>SB8HLS</td>\n",
       "      <td>8 CFL</td>\n",
       "      <td>47.0</td>\n",
       "    </tr>\n",
       "    <tr>\n",
       "      <th>137</th>\n",
       "      <td>Solar Light Selco</td>\n",
       "      <td>SB6HLS</td>\n",
       "      <td>6 CFL</td>\n",
       "      <td>46.0</td>\n",
       "    </tr>\n",
       "    <tr>\n",
       "      <th>3116</th>\n",
       "      <td>Solar Light Selco</td>\n",
       "      <td>SB4HLS</td>\n",
       "      <td>4 CFL</td>\n",
       "      <td>44.0</td>\n",
       "    </tr>\n",
       "    <tr>\n",
       "      <th>3410</th>\n",
       "      <td>Solar Light Selco</td>\n",
       "      <td>SB2HLS</td>\n",
       "      <td>2 CFL</td>\n",
       "      <td>43.0</td>\n",
       "    </tr>\n",
       "    <tr>\n",
       "      <th>3900</th>\n",
       "      <td>Solar Light Selco</td>\n",
       "      <td>S15HLS</td>\n",
       "      <td>12 CFL + 2 Fan</td>\n",
       "      <td>42.0</td>\n",
       "    </tr>\n",
       "    <tr>\n",
       "      <th>1543</th>\n",
       "      <td>Solar Light Selco</td>\n",
       "      <td>S14HLS</td>\n",
       "      <td>10 CFL + 2 Fan</td>\n",
       "      <td>41.0</td>\n",
       "    </tr>\n",
       "    <tr>\n",
       "      <th>3796</th>\n",
       "      <td>Solar Light Selco</td>\n",
       "      <td>S10HLS</td>\n",
       "      <td>10 CFL</td>\n",
       "      <td>40.0</td>\n",
       "    </tr>\n",
       "    <tr>\n",
       "      <th>3344</th>\n",
       "      <td>Greenway Jumbo Stove GJS1</td>\n",
       "      <td>GJS1</td>\n",
       "      <td>Others</td>\n",
       "      <td>38.0</td>\n",
       "    </tr>\n",
       "    <tr>\n",
       "      <th>2021</th>\n",
       "      <td>Cook Stove GSSV3</td>\n",
       "      <td>GSSV3</td>\n",
       "      <td>Others</td>\n",
       "      <td>37.0</td>\n",
       "    </tr>\n",
       "    <tr>\n",
       "      <th>4516</th>\n",
       "      <td>Solar Light Selco</td>\n",
       "      <td>EH4HLS</td>\n",
       "      <td>4 LED Light</td>\n",
       "      <td>36.0</td>\n",
       "    </tr>\n",
       "    <tr>\n",
       "      <th>2831</th>\n",
       "      <td>Solar Light Selco</td>\n",
       "      <td>EH2HLS</td>\n",
       "      <td>2 LED Light</td>\n",
       "      <td>35.0</td>\n",
       "    </tr>\n",
       "    <tr>\n",
       "      <th>2432</th>\n",
       "      <td>Solar Light Selco</td>\n",
       "      <td>BH4HLS</td>\n",
       "      <td>2 CFL + 1 Fan</td>\n",
       "      <td>23.0</td>\n",
       "    </tr>\n",
       "  </tbody>\n",
       "</table>\n",
       "</div>"
      ],
      "text/plain": [
       "                   Product Type Name of Model  Product Detail  product_id\n",
       "0             Solar Light Selco        SH4HLS   4 COMBI Light        50.0\n",
       "4109          Solar Light Selco        SB9HLS           9 CFL        48.0\n",
       "654           Solar Light Selco        SB8HLS           8 CFL        47.0\n",
       "137           Solar Light Selco        SB6HLS           6 CFL        46.0\n",
       "3116          Solar Light Selco        SB4HLS           4 CFL        44.0\n",
       "3410          Solar Light Selco        SB2HLS           2 CFL        43.0\n",
       "3900          Solar Light Selco        S15HLS  12 CFL + 2 Fan        42.0\n",
       "1543          Solar Light Selco        S14HLS  10 CFL + 2 Fan        41.0\n",
       "3796          Solar Light Selco        S10HLS          10 CFL        40.0\n",
       "3344  Greenway Jumbo Stove GJS1          GJS1          Others        38.0\n",
       "2021           Cook Stove GSSV3         GSSV3          Others        37.0\n",
       "4516          Solar Light Selco        EH4HLS     4 LED Light        36.0\n",
       "2831          Solar Light Selco        EH2HLS     2 LED Light        35.0\n",
       "2432          Solar Light Selco        BH4HLS   2 CFL + 1 Fan        23.0"
      ]
     },
     "execution_count": 46,
     "metadata": {},
     "output_type": "execute_result"
    }
   ],
   "source": [
    "# ---- Manual Analysis can shows the Product_id indicate the combination of three feature\n",
    "\n",
    "\n",
    "full_loan_data[['Product Type','Name of Model','Product Detail','product_id']].sort_values(by='product_id',ascending=False).drop_duplicates()"
   ]
  },
  {
   "cell_type": "code",
   "execution_count": 47,
   "metadata": {},
   "outputs": [],
   "source": [
    "# ---- Combining the three feature to one single feature \n",
    "\n",
    "\n",
    "full_loan_data['Full_Product_Details']=list(zip(full_loan_data['Product Type'],full_loan_data['Name of Model'],full_loan_data['Product Detail']))"
   ]
  },
  {
   "cell_type": "code",
   "execution_count": 48,
   "metadata": {},
   "outputs": [],
   "source": [
    "# ---- Data Drop as we reready craeted a comman feature\n",
    "\n",
    "full_loan_data.drop(['Product Type','Name of Model','Product Detail'],axis=1,inplace=True)"
   ]
  },
  {
   "cell_type": "code",
   "execution_count": 49,
   "metadata": {},
   "outputs": [
    {
     "data": {
      "text/plain": [
       "0        (Solar Light Selco, SH4HLS, 4 COMBI Light)\n",
       "1       (Solar Light Selco, S15HLS, 12 CFL + 2 Fan)\n",
       "2          (Solar Light Selco, EH2HLS, 2 LED Light)\n",
       "3          (Solar Light Selco, EH2HLS, 2 LED Light)\n",
       "4               (Solar Light Selco, S10HLS, 10 CFL)\n",
       "5         (Greenway Jumbo Stove GJS1, GJS1, Others)\n",
       "6                (Solar Light Selco, SB2HLS, 2 CFL)\n",
       "7         (Greenway Jumbo Stove GJS1, GJS1, Others)\n",
       "8         (Greenway Jumbo Stove GJS1, GJS1, Others)\n",
       "9          (Solar Light Selco, EH2HLS, 2 LED Light)\n",
       "                           ...                     \n",
       "4990              (Cook Stove GSSV3, GSSV3, Others)\n",
       "4991       (Solar Light Selco, EH4HLS, 4 LED Light)\n",
       "4992              (Cook Stove GSSV3, GSSV3, Others)\n",
       "4993       (Solar Light Selco, EH4HLS, 4 LED Light)\n",
       "4994              (Cook Stove GSSV3, GSSV3, Others)\n",
       "4995      (Greenway Jumbo Stove GJS1, GJS1, Others)\n",
       "4996             (Solar Light Selco, SB8HLS, 8 CFL)\n",
       "4997      (Greenway Jumbo Stove GJS1, GJS1, Others)\n",
       "4998      (Greenway Jumbo Stove GJS1, GJS1, Others)\n",
       "4999      (Greenway Jumbo Stove GJS1, GJS1, Others)\n",
       "Name: Full_Product_Details, Length: 4999, dtype: object"
      ]
     },
     "execution_count": 49,
     "metadata": {},
     "output_type": "execute_result"
    }
   ],
   "source": [
    "# --- Data Display --- \n",
    "# here we sould remember 'product_id' too indicate the same inforamtion that is shown by Full_Product_Details -- (created new feature)\n",
    "\n",
    "full_loan_data['Full_Product_Details']"
   ]
  },
  {
   "cell_type": "markdown",
   "metadata": {},
   "source": [
    "# Graph and Ploting the data for better understading"
   ]
  },
  {
   "cell_type": "code",
   "execution_count": 50,
   "metadata": {},
   "outputs": [
    {
     "data": {
      "text/plain": [
       "Index(['Village', 'Branch Name', 'Loan Amount', 'product_id',\n",
       "       'Loan Application Year', 'Loan Application Month',\n",
       "       'Loan Application Day', 'Product Installed Year',\n",
       "       'Product Installed Month', 'Product Installed Day',\n",
       "       'Loan Processed Time', 'Full_Product_Details'],\n",
       "      dtype='object')"
      ]
     },
     "execution_count": 50,
     "metadata": {},
     "output_type": "execute_result"
    }
   ],
   "source": [
    "full_loan_data.columns"
   ]
  },
  {
   "cell_type": "code",
   "execution_count": 51,
   "metadata": {},
   "outputs": [
    {
     "data": {
      "text/html": [
       "<div>\n",
       "<style scoped>\n",
       "    .dataframe tbody tr th:only-of-type {\n",
       "        vertical-align: middle;\n",
       "    }\n",
       "\n",
       "    .dataframe tbody tr th {\n",
       "        vertical-align: top;\n",
       "    }\n",
       "\n",
       "    .dataframe thead th {\n",
       "        text-align: right;\n",
       "    }\n",
       "</style>\n",
       "<table border=\"1\" class=\"dataframe\">\n",
       "  <thead>\n",
       "    <tr style=\"text-align: right;\">\n",
       "      <th></th>\n",
       "      <th>Village</th>\n",
       "      <th>Branch Name</th>\n",
       "      <th>Loan Amount</th>\n",
       "      <th>product_id</th>\n",
       "      <th>Loan Application Year</th>\n",
       "      <th>Loan Application Month</th>\n",
       "      <th>Loan Application Day</th>\n",
       "      <th>Product Installed Year</th>\n",
       "      <th>Product Installed Month</th>\n",
       "      <th>Product Installed Day</th>\n",
       "      <th>Loan Processed Time</th>\n",
       "      <th>Full_Product_Details</th>\n",
       "    </tr>\n",
       "  </thead>\n",
       "  <tbody>\n",
       "    <tr>\n",
       "      <th>0</th>\n",
       "      <td>Honnavalli</td>\n",
       "      <td>Tiptur</td>\n",
       "      <td>15500.0</td>\n",
       "      <td>50.0</td>\n",
       "      <td>2018</td>\n",
       "      <td>6</td>\n",
       "      <td>12</td>\n",
       "      <td>2018</td>\n",
       "      <td>6</td>\n",
       "      <td>18</td>\n",
       "      <td>6</td>\n",
       "      <td>(Solar Light Selco, SH4HLS, 4 COMBI Light)</td>\n",
       "    </tr>\n",
       "    <tr>\n",
       "      <th>1</th>\n",
       "      <td>Amaramudnooru</td>\n",
       "      <td>Sullia</td>\n",
       "      <td>53000.0</td>\n",
       "      <td>42.0</td>\n",
       "      <td>2019</td>\n",
       "      <td>1</td>\n",
       "      <td>7</td>\n",
       "      <td>2019</td>\n",
       "      <td>1</td>\n",
       "      <td>10</td>\n",
       "      <td>3</td>\n",
       "      <td>(Solar Light Selco, S15HLS, 12 CFL + 2 Fan)</td>\n",
       "    </tr>\n",
       "  </tbody>\n",
       "</table>\n",
       "</div>"
      ],
      "text/plain": [
       "         Village Branch Name  Loan Amount  product_id  Loan Application Year  \\\n",
       "0     Honnavalli      Tiptur      15500.0        50.0                   2018   \n",
       "1  Amaramudnooru      Sullia      53000.0        42.0                   2019   \n",
       "\n",
       "   Loan Application Month  Loan Application Day  Product Installed Year  \\\n",
       "0                       6                    12                    2018   \n",
       "1                       1                     7                    2019   \n",
       "\n",
       "   Product Installed Month  Product Installed Day  Loan Processed Time  \\\n",
       "0                        6                     18                    6   \n",
       "1                        1                     10                    3   \n",
       "\n",
       "                          Full_Product_Details  \n",
       "0   (Solar Light Selco, SH4HLS, 4 COMBI Light)  \n",
       "1  (Solar Light Selco, S15HLS, 12 CFL + 2 Fan)  "
      ]
     },
     "execution_count": 51,
     "metadata": {},
     "output_type": "execute_result"
    }
   ],
   "source": [
    "full_loan_data.head(2)"
   ]
  },
  {
   "cell_type": "code",
   "execution_count": 52,
   "metadata": {},
   "outputs": [
    {
     "data": {
      "text/plain": [
       "<matplotlib.axes._subplots.AxesSubplot at 0x204d26b9550>"
      ]
     },
     "execution_count": 52,
     "metadata": {},
     "output_type": "execute_result"
    },
    {
     "data": {
      "image/png": "[encoded data removed]",
      "text/plain": [
       "<Figure size 432x288 with 1 Axes>"
      ]
     },
     "metadata": {
      "needs_background": "light"
     },
     "output_type": "display_data"
    }
   ],
   "source": [
    "# ----- Graph 1\n",
    "\n",
    "full_loan_data['Loan Amount'].plot.line()"
   ]
  },
  {
   "cell_type": "code",
   "execution_count": 53,
   "metadata": {},
   "outputs": [
    {
     "data": {
      "text/plain": [
       "<matplotlib.axes._subplots.AxesSubplot at 0x204d280db38>"
      ]
     },
     "execution_count": 53,
     "metadata": {},
     "output_type": "execute_result"
    },
    {
     "data": {
      "image/png": "[encoded data removed]",
      "text/plain": [
       "<Figure size 432x288 with 1 Axes>"
      ]
     },
     "metadata": {
      "needs_background": "light"
     },
     "output_type": "display_data"
    }
   ],
   "source": [
    "# ----- Graph 2\n",
    "\n",
    "\n",
    "sns.distplot(full_loan_data['Loan Amount'],bins=25)"
   ]
  },
  {
   "cell_type": "code",
   "execution_count": 54,
   "metadata": {},
   "outputs": [
    {
     "data": {
      "text/plain": [
       "<matplotlib.axes._subplots.AxesSubplot at 0x204d27fa2e8>"
      ]
     },
     "execution_count": 54,
     "metadata": {},
     "output_type": "execute_result"
    },
    {
     "data": {
      "image/png": "[encoded data removed]",
      "text/plain": [
       "<Figure size 432x288 with 1 Axes>"
      ]
     },
     "metadata": {
      "needs_background": "light"
     },
     "output_type": "display_data"
    }
   ],
   "source": [
    "# ----- Graph 3\n",
    "\n",
    "full_loan_data['Loan Amount'].plot.hist(bins=35)"
   ]
  },
  {
   "cell_type": "code",
   "execution_count": 55,
   "metadata": {},
   "outputs": [
    {
     "data": {
      "text/plain": [
       "<matplotlib.axes._subplots.AxesSubplot at 0x204d2a64fd0>"
      ]
     },
     "execution_count": 55,
     "metadata": {},
     "output_type": "execute_result"
    },
    {
     "data": {
      "image/png": "[encoded data removed]",
      "text/plain": [
       "<Figure size 432x288 with 1 Axes>"
      ]
     },
     "metadata": {
      "needs_background": "light"
     },
     "output_type": "display_data"
    }
   ],
   "source": [
    "# ----- Graph 4\n",
    "\n",
    "\n",
    "full_loan_data['Loan Application Month'].plot.hist(bins=15)"
   ]
  },
  {
   "cell_type": "code",
   "execution_count": 56,
   "metadata": {},
   "outputs": [
    {
     "data": {
      "text/plain": [
       "<matplotlib.axes._subplots.AxesSubplot at 0x204d319ef98>"
      ]
     },
     "execution_count": 56,
     "metadata": {},
     "output_type": "execute_result"
    },
    {
     "data": {
      "image/png": "[encoded data removed]",
      "text/plain": [
       "<Figure size 432x288 with 1 Axes>"
      ]
     },
     "metadata": {
      "needs_background": "light"
     },
     "output_type": "display_data"
    }
   ],
   "source": [
    "# ----- Graph 5\n",
    "\n",
    "\n",
    "sns.distplot(full_loan_data['Loan Application Month'],bins=15)"
   ]
  },
  {
   "cell_type": "code",
   "execution_count": 57,
   "metadata": {},
   "outputs": [
    {
     "data": {
      "text/plain": [
       "<matplotlib.axes._subplots.AxesSubplot at 0x204d322e630>"
      ]
     },
     "execution_count": 57,
     "metadata": {},
     "output_type": "execute_result"
    },
    {
     "data": {
      "image/png": "[encoded data removed]",
      "text/plain": [
       "<Figure size 432x288 with 1 Axes>"
      ]
     },
     "metadata": {
      "needs_background": "light"
     },
     "output_type": "display_data"
    }
   ],
   "source": [
    "# ----- Graph 6\n",
    "\n",
    "\n",
    "full_loan_data['Loan Application Day'].plot.hist(bins=35)"
   ]
  },
  {
   "cell_type": "code",
   "execution_count": 58,
   "metadata": {},
   "outputs": [
    {
     "data": {
      "text/plain": [
       "<matplotlib.axes._subplots.AxesSubplot at 0x204d3262630>"
      ]
     },
     "execution_count": 58,
     "metadata": {},
     "output_type": "execute_result"
    },
    {
     "data": {
      "image/png": "[encoded data removed]",
      "text/plain": [
       "<Figure size 432x288 with 1 Axes>"
      ]
     },
     "metadata": {
      "needs_background": "light"
     },
     "output_type": "display_data"
    }
   ],
   "source": [
    "# ----- Graph 7\n",
    "\n",
    "\n",
    "sns.distplot(full_loan_data['Loan Application Day'],bins=35)"
   ]
  },
  {
   "cell_type": "code",
   "execution_count": 59,
   "metadata": {},
   "outputs": [
    {
     "data": {
      "text/plain": [
       "<matplotlib.axes._subplots.AxesSubplot at 0x204d334c438>"
      ]
     },
     "execution_count": 59,
     "metadata": {},
     "output_type": "execute_result"
    },
    {
     "data": {
      "image/png": "[encoded data removed]",
      "text/plain": [
       "<Figure size 432x288 with 1 Axes>"
      ]
     },
     "metadata": {
      "needs_background": "light"
     },
     "output_type": "display_data"
    }
   ],
   "source": [
    "# ----- Graph 8\n",
    "\n",
    "\n",
    "sns.countplot(x=\"Loan Application Year\", data=full_loan_data)"
   ]
  },
  {
   "cell_type": "code",
   "execution_count": 60,
   "metadata": {},
   "outputs": [
    {
     "data": {
      "image/png": "[encoded data removed]",
      "text/plain": [
       "<Figure size 1080x360 with 3 Axes>"
      ]
     },
     "metadata": {
      "needs_background": "light"
     },
     "output_type": "display_data"
    }
   ],
   "source": [
    "# ----- Graph 9\n",
    "\n",
    "g = sns.catplot(x=\"Loan Application Month\", col=\"Loan Application Year\", data=full_loan_data, kind=\"count\")"
   ]
  },
  {
   "cell_type": "code",
   "execution_count": 61,
   "metadata": {},
   "outputs": [
    {
     "data": {
      "text/plain": [
       "<matplotlib.axes._subplots.AxesSubplot at 0x204d36ed668>"
      ]
     },
     "execution_count": 61,
     "metadata": {},
     "output_type": "execute_result"
    },
    {
     "data": {
      "image/png": "[encoded data removed]",
      "text/plain": [
       "<Figure size 432x288 with 1 Axes>"
      ]
     },
     "metadata": {
      "needs_background": "light"
     },
     "output_type": "display_data"
    }
   ],
   "source": [
    "# ----- Graph 10\n",
    "\n",
    "sns.countplot(x=\"product_id\", data=full_loan_data)"
   ]
  },
  {
   "cell_type": "markdown",
   "metadata": {},
   "source": [
    "# -- observed --\n",
    "    By seeing all the Univariate Graph we can conclude the below result --> \n",
    "        1) Most of the loans are demanded b/w 2450 -- 5000 range --- (Graph 2, 3)\n",
    "        2) There is a high demand for loan b/w 15 to 25 for date for each Year of month --- (Graph 6, 7)\n",
    "        3) Selling seems to be good for Year -- 2018 on 9th month --- (Graph 8, 9)\n",
    "        4) There is more chance that a customer may ask for loan post 8th month for each year (can we seen 2017, 2018) --- (Graph 4, 5, 9)"
   ]
  },
  {
   "cell_type": "code",
   "execution_count": 62,
   "metadata": {},
   "outputs": [
    {
     "data": {
      "text/plain": [
       "<Figure size 1440x720 with 0 Axes>"
      ]
     },
     "execution_count": 62,
     "metadata": {},
     "output_type": "execute_result"
    },
    {
     "data": {
      "text/plain": [
       "<matplotlib.axes._subplots.AxesSubplot at 0x204d38dbba8>"
      ]
     },
     "execution_count": 62,
     "metadata": {},
     "output_type": "execute_result"
    },
    {
     "data": {
      "image/png": "[encoded data removed]",
      "text/plain": [
       "<Figure size 1440x720 with 1 Axes>"
      ]
     },
     "metadata": {
      "needs_background": "light"
     },
     "output_type": "display_data"
    }
   ],
   "source": [
    "plt.figure(figsize=(20,10))\n",
    "sns.boxplot(x='product_id',y='Loan Amount',data=full_loan_data)"
   ]
  },
  {
   "cell_type": "code",
   "execution_count": 63,
   "metadata": {},
   "outputs": [
    {
     "data": {
      "text/plain": [
       "<seaborn.axisgrid.PairGrid at 0x204d4e243c8>"
      ]
     },
     "execution_count": 63,
     "metadata": {},
     "output_type": "execute_result"
    },
    {
     "data": {
      "image/png": "[encoded data removed]",
      "text/plain": [
       "<Figure size 900x900 with 30 Axes>"
      ]
     },
     "metadata": {
      "needs_background": "light"
     },
     "output_type": "display_data"
    }
   ],
   "source": [
    "# ---- Figure M_1\n",
    "\n",
    "\n",
    "sns.pairplot(full_loan_data[['Village', 'Branch Name', 'Loan Amount', 'product_id','Loan Application Year', 'Loan Application Month','Loan Application Day','Full_Product_Details']])"
   ]
  },
  {
   "cell_type": "markdown",
   "metadata": {},
   "source": [
    "# -- observed --\n",
    "    By seeing all the Multivariate Graph we can conclude the below result --> \n",
    "        1) Higher the product id is there is more chance they will be brought ending month of year --- (Graph M_1)"
   ]
  },
  {
   "cell_type": "markdown",
   "metadata": {},
   "source": [
    "# Analysis by GroupBy "
   ]
  },
  {
   "cell_type": "code",
   "execution_count": 64,
   "metadata": {},
   "outputs": [
    {
     "data": {
      "text/html": [
       "<div>\n",
       "<style scoped>\n",
       "    .dataframe tbody tr th:only-of-type {\n",
       "        vertical-align: middle;\n",
       "    }\n",
       "\n",
       "    .dataframe tbody tr th {\n",
       "        vertical-align: top;\n",
       "    }\n",
       "\n",
       "    .dataframe thead th {\n",
       "        text-align: right;\n",
       "    }\n",
       "</style>\n",
       "<table border=\"1\" class=\"dataframe\">\n",
       "  <thead>\n",
       "    <tr style=\"text-align: right;\">\n",
       "      <th></th>\n",
       "      <th>Loan Amount</th>\n",
       "    </tr>\n",
       "    <tr>\n",
       "      <th>Village</th>\n",
       "      <th></th>\n",
       "    </tr>\n",
       "  </thead>\n",
       "  <tbody>\n",
       "    <tr>\n",
       "      <th>Sirigere</th>\n",
       "      <td>140150.0</td>\n",
       "    </tr>\n",
       "    <tr>\n",
       "      <th>Soravanahalli</th>\n",
       "      <td>119670.0</td>\n",
       "    </tr>\n",
       "    <tr>\n",
       "      <th>BENDEKERE</th>\n",
       "      <td>106100.0</td>\n",
       "    </tr>\n",
       "    <tr>\n",
       "      <th>S.M Krishnagara</th>\n",
       "      <td>99000.0</td>\n",
       "    </tr>\n",
       "    <tr>\n",
       "      <th>Nippani</th>\n",
       "      <td>95400.0</td>\n",
       "    </tr>\n",
       "  </tbody>\n",
       "</table>\n",
       "</div>"
      ],
      "text/plain": [
       "                 Loan Amount\n",
       "Village                     \n",
       "Sirigere            140150.0\n",
       "Soravanahalli       119670.0\n",
       "BENDEKERE           106100.0\n",
       "S.M Krishnagara      99000.0\n",
       "Nippani              95400.0"
      ]
     },
     "execution_count": 64,
     "metadata": {},
     "output_type": "execute_result"
    }
   ],
   "source": [
    "full_loan_data.groupby('Village')[['Loan Amount']].sum().apply(lambda x: x.sort_values(ascending=False)).head(5)"
   ]
  },
  {
   "cell_type": "code",
   "execution_count": 65,
   "metadata": {},
   "outputs": [
    {
     "data": {
      "text/plain": [
       "Bijapur CMC      34\n",
       "Challakere       20\n",
       "Soravanahalli    18\n",
       "Sirigere         17\n",
       "Name: Village, dtype: int64"
      ]
     },
     "execution_count": 65,
     "metadata": {},
     "output_type": "execute_result"
    }
   ],
   "source": [
    "full_loan_data['Village'].value_counts().head(4)"
   ]
  },
  {
   "cell_type": "markdown",
   "metadata": {},
   "source": [
    "# -- observed --\n",
    "    1) As Village is highly distibuted and has very low fecuency data in it (2543 unique values) So difficult to identify and pattern in it.\n",
    "    2) Above are some of the Village that show result for the village that are at top with loan requirement.\n",
    "        -- Villages from Sirigere took higher loan i.e.  140150.0 is pending loan with Sirigere villages\n",
    "    "
   ]
  },
  {
   "cell_type": "code",
   "execution_count": 66,
   "metadata": {},
   "outputs": [
    {
     "data": {
      "text/html": [
       "<div>\n",
       "<style scoped>\n",
       "    .dataframe tbody tr th:only-of-type {\n",
       "        vertical-align: middle;\n",
       "    }\n",
       "\n",
       "    .dataframe tbody tr th {\n",
       "        vertical-align: top;\n",
       "    }\n",
       "\n",
       "    .dataframe thead th {\n",
       "        text-align: right;\n",
       "    }\n",
       "</style>\n",
       "<table border=\"1\" class=\"dataframe\">\n",
       "  <thead>\n",
       "    <tr style=\"text-align: right;\">\n",
       "      <th></th>\n",
       "      <th>Loan Amount</th>\n",
       "    </tr>\n",
       "    <tr>\n",
       "      <th>Branch Name</th>\n",
       "      <th></th>\n",
       "    </tr>\n",
       "  </thead>\n",
       "  <tbody>\n",
       "    <tr>\n",
       "      <th>Arasikere</th>\n",
       "      <td>806800.0</td>\n",
       "    </tr>\n",
       "    <tr>\n",
       "      <th>Turuvekere</th>\n",
       "      <td>798510.0</td>\n",
       "    </tr>\n",
       "    <tr>\n",
       "      <th>Koppa</th>\n",
       "      <td>629590.0</td>\n",
       "    </tr>\n",
       "    <tr>\n",
       "      <th>Sullia</th>\n",
       "      <td>570950.0</td>\n",
       "    </tr>\n",
       "    <tr>\n",
       "      <th>Hubli</th>\n",
       "      <td>552850.0</td>\n",
       "    </tr>\n",
       "  </tbody>\n",
       "</table>\n",
       "</div>"
      ],
      "text/plain": [
       "             Loan Amount\n",
       "Branch Name             \n",
       "Arasikere       806800.0\n",
       "Turuvekere      798510.0\n",
       "Koppa           629590.0\n",
       "Sullia          570950.0\n",
       "Hubli           552850.0"
      ]
     },
     "execution_count": 66,
     "metadata": {},
     "output_type": "execute_result"
    }
   ],
   "source": [
    "full_loan_data.groupby('Branch Name')[['Loan Amount']].sum().apply(lambda x: x.sort_values(ascending=False)).head(5)"
   ]
  },
  {
   "cell_type": "code",
   "execution_count": 67,
   "metadata": {},
   "outputs": [
    {
     "data": {
      "text/plain": [
       "Chikodi       121\n",
       "Turuvekere    108\n",
       "Hubli         106\n",
       "Arasikere      98\n",
       "Name: Branch Name, dtype: int64"
      ]
     },
     "execution_count": 67,
     "metadata": {},
     "output_type": "execute_result"
    }
   ],
   "source": [
    "full_loan_data['Branch Name'].value_counts().head(4)"
   ]
  },
  {
   "cell_type": "markdown",
   "metadata": {},
   "source": [
    "# -- observed --\n",
    "    1) Above are some of the Branch that show result for the top provider brach with loan.\n",
    "        -- Branch from Arasikere provides higher loan i.e. 806800.0.0 is provided loan with Arasikere Branch"
   ]
  },
  {
   "cell_type": "code",
   "execution_count": 68,
   "metadata": {},
   "outputs": [
    {
     "data": {
      "text/html": [
       "<div>\n",
       "<style scoped>\n",
       "    .dataframe tbody tr th:only-of-type {\n",
       "        vertical-align: middle;\n",
       "    }\n",
       "\n",
       "    .dataframe tbody tr th {\n",
       "        vertical-align: top;\n",
       "    }\n",
       "\n",
       "    .dataframe thead th {\n",
       "        text-align: right;\n",
       "    }\n",
       "</style>\n",
       "<table border=\"1\" class=\"dataframe\">\n",
       "  <thead>\n",
       "    <tr style=\"text-align: right;\">\n",
       "      <th></th>\n",
       "      <th>Loan Amount</th>\n",
       "    </tr>\n",
       "    <tr>\n",
       "      <th>product_id</th>\n",
       "      <th></th>\n",
       "    </tr>\n",
       "  </thead>\n",
       "  <tbody>\n",
       "    <tr>\n",
       "      <th>38.0</th>\n",
       "      <td>7405260.0</td>\n",
       "    </tr>\n",
       "    <tr>\n",
       "      <th>43.0</th>\n",
       "      <td>3911359.0</td>\n",
       "    </tr>\n",
       "    <tr>\n",
       "      <th>36.0</th>\n",
       "      <td>3698054.0</td>\n",
       "    </tr>\n",
       "    <tr>\n",
       "      <th>35.0</th>\n",
       "      <td>3098373.0</td>\n",
       "    </tr>\n",
       "  </tbody>\n",
       "</table>\n",
       "</div>"
      ],
      "text/plain": [
       "            Loan Amount\n",
       "product_id             \n",
       "38.0          7405260.0\n",
       "43.0          3911359.0\n",
       "36.0          3698054.0\n",
       "35.0          3098373.0"
      ]
     },
     "execution_count": 68,
     "metadata": {},
     "output_type": "execute_result"
    }
   ],
   "source": [
    "full_loan_data.groupby('product_id')[['Loan Amount']].sum().apply(lambda x: x.sort_values(ascending=False)).head(4)"
   ]
  },
  {
   "cell_type": "markdown",
   "metadata": {},
   "source": [
    "# -- observed --\n",
    "    By the Above we can we most highest seling product is with product_id as 38.0\n",
    "    i.e. Greenway Jumbo Stove GJS1--\tGJS1--\tothers\t"
   ]
  },
  {
   "cell_type": "code",
   "execution_count": 69,
   "metadata": {},
   "outputs": [
    {
     "data": {
      "text/html": [
       "<div>\n",
       "<style scoped>\n",
       "    .dataframe tbody tr th:only-of-type {\n",
       "        vertical-align: middle;\n",
       "    }\n",
       "\n",
       "    .dataframe tbody tr th {\n",
       "        vertical-align: top;\n",
       "    }\n",
       "\n",
       "    .dataframe thead th {\n",
       "        text-align: right;\n",
       "    }\n",
       "</style>\n",
       "<table border=\"1\" class=\"dataframe\">\n",
       "  <thead>\n",
       "    <tr style=\"text-align: right;\">\n",
       "      <th></th>\n",
       "      <th></th>\n",
       "      <th>Loan Amount</th>\n",
       "    </tr>\n",
       "    <tr>\n",
       "      <th>product_id</th>\n",
       "      <th>Village</th>\n",
       "      <th></th>\n",
       "    </tr>\n",
       "  </thead>\n",
       "  <tbody>\n",
       "    <tr>\n",
       "      <th>42.0</th>\n",
       "      <th>S.M Krishnagara</th>\n",
       "      <td>90000.0</td>\n",
       "    </tr>\n",
       "    <tr>\n",
       "      <th>38.0</th>\n",
       "      <th>Bijapur CMC</th>\n",
       "      <td>79900.0</td>\n",
       "    </tr>\n",
       "    <tr>\n",
       "      <th>50.0</th>\n",
       "      <th>Sirigere</th>\n",
       "      <td>77500.0</td>\n",
       "    </tr>\n",
       "    <tr>\n",
       "      <th>40.0</th>\n",
       "      <th>Kattimallenahalli</th>\n",
       "      <td>72000.0</td>\n",
       "    </tr>\n",
       "    <tr>\n",
       "      <th>35.0</th>\n",
       "      <th>Nippani</th>\n",
       "      <td>72000.0</td>\n",
       "    </tr>\n",
       "  </tbody>\n",
       "</table>\n",
       "</div>"
      ],
      "text/plain": [
       "                              Loan Amount\n",
       "product_id Village                       \n",
       "42.0       S.M Krishnagara        90000.0\n",
       "38.0       Bijapur CMC            79900.0\n",
       "50.0       Sirigere               77500.0\n",
       "40.0       Kattimallenahalli      72000.0\n",
       "35.0       Nippani                72000.0"
      ]
     },
     "execution_count": 69,
     "metadata": {},
     "output_type": "execute_result"
    }
   ],
   "source": [
    "full_loan_data.groupby(['product_id','Village'])[['Loan Amount']].sum().apply(lambda x: x.sort_values(ascending=False)).head(5)"
   ]
  },
  {
   "cell_type": "code",
   "execution_count": 70,
   "metadata": {},
   "outputs": [
    {
     "data": {
      "text/html": [
       "<div>\n",
       "<style scoped>\n",
       "    .dataframe tbody tr th:only-of-type {\n",
       "        vertical-align: middle;\n",
       "    }\n",
       "\n",
       "    .dataframe tbody tr th {\n",
       "        vertical-align: top;\n",
       "    }\n",
       "\n",
       "    .dataframe thead th {\n",
       "        text-align: right;\n",
       "    }\n",
       "</style>\n",
       "<table border=\"1\" class=\"dataframe\">\n",
       "  <thead>\n",
       "    <tr style=\"text-align: right;\">\n",
       "      <th></th>\n",
       "      <th></th>\n",
       "      <th>Loan Amount</th>\n",
       "    </tr>\n",
       "    <tr>\n",
       "      <th>Village</th>\n",
       "      <th>product_id</th>\n",
       "      <th></th>\n",
       "    </tr>\n",
       "  </thead>\n",
       "  <tbody>\n",
       "    <tr>\n",
       "      <th>Bijapur CMC</th>\n",
       "      <th>38.0</th>\n",
       "      <td>34</td>\n",
       "    </tr>\n",
       "    <tr>\n",
       "      <th>Talikota TMC</th>\n",
       "      <th>38.0</th>\n",
       "      <td>17</td>\n",
       "    </tr>\n",
       "    <tr>\n",
       "      <th>Muddebihal TMC</th>\n",
       "      <th>38.0</th>\n",
       "      <td>17</td>\n",
       "    </tr>\n",
       "    <tr>\n",
       "      <th>Challakere</th>\n",
       "      <th>38.0</th>\n",
       "      <td>16</td>\n",
       "    </tr>\n",
       "    <tr>\n",
       "      <th>MYSORE CITY CORPORATION</th>\n",
       "      <th>38.0</th>\n",
       "      <td>15</td>\n",
       "    </tr>\n",
       "  </tbody>\n",
       "</table>\n",
       "</div>"
      ],
      "text/plain": [
       "                                    Loan Amount\n",
       "Village                 product_id             \n",
       "Bijapur CMC             38.0                 34\n",
       "Talikota TMC            38.0                 17\n",
       "Muddebihal TMC          38.0                 17\n",
       "Challakere              38.0                 16\n",
       "MYSORE CITY CORPORATION 38.0                 15"
      ]
     },
     "execution_count": 70,
     "metadata": {},
     "output_type": "execute_result"
    }
   ],
   "source": [
    "full_loan_data.groupby(['Village','product_id'])[['Loan Amount']].count().apply(lambda x: x.sort_values(ascending=False)).head(5)"
   ]
  },
  {
   "cell_type": "markdown",
   "metadata": {},
   "source": [
    "# -- observed --\n",
    "    By the Above we can we most highest seling product is with product_id as 42.0 at S.M. Krishnagara Village \n",
    "    i.e. Solar Light Selco-- S15HLS-- 12 CFL + 2 Fan\n",
    "    \n",
    "    By the above analysis we can say prouduct 38.0 is at very high demand most of the vallages are high count (34,17,16)\n",
    "    i.e.  Greenway Jumbo Stove GJS1--    GJS1--    others  "
   ]
  },
  {
   "cell_type": "code",
   "execution_count": 71,
   "metadata": {},
   "outputs": [
    {
     "data": {
      "text/html": [
       "<div>\n",
       "<style scoped>\n",
       "    .dataframe tbody tr th:only-of-type {\n",
       "        vertical-align: middle;\n",
       "    }\n",
       "\n",
       "    .dataframe tbody tr th {\n",
       "        vertical-align: top;\n",
       "    }\n",
       "\n",
       "    .dataframe thead th {\n",
       "        text-align: right;\n",
       "    }\n",
       "</style>\n",
       "<table border=\"1\" class=\"dataframe\">\n",
       "  <thead>\n",
       "    <tr style=\"text-align: right;\">\n",
       "      <th></th>\n",
       "      <th></th>\n",
       "      <th>Loan Amount</th>\n",
       "    </tr>\n",
       "    <tr>\n",
       "      <th>Loan Application Year</th>\n",
       "      <th>Loan Application Month</th>\n",
       "      <th></th>\n",
       "    </tr>\n",
       "  </thead>\n",
       "  <tbody>\n",
       "    <tr>\n",
       "      <th>2018</th>\n",
       "      <th>9</th>\n",
       "      <td>4077390.0</td>\n",
       "    </tr>\n",
       "    <tr>\n",
       "      <th>2019</th>\n",
       "      <th>3</th>\n",
       "      <td>3327350.0</td>\n",
       "    </tr>\n",
       "    <tr>\n",
       "      <th rowspan=\"2\" valign=\"top\">2018</th>\n",
       "      <th>7</th>\n",
       "      <td>2723270.0</td>\n",
       "    </tr>\n",
       "    <tr>\n",
       "      <th>11</th>\n",
       "      <td>2307330.0</td>\n",
       "    </tr>\n",
       "    <tr>\n",
       "      <th>2019</th>\n",
       "      <th>1</th>\n",
       "      <td>2209350.0</td>\n",
       "    </tr>\n",
       "  </tbody>\n",
       "</table>\n",
       "</div>"
      ],
      "text/plain": [
       "                                              Loan Amount\n",
       "Loan Application Year Loan Application Month             \n",
       "2018                  9                         4077390.0\n",
       "2019                  3                         3327350.0\n",
       "2018                  7                         2723270.0\n",
       "                      11                        2307330.0\n",
       "2019                  1                         2209350.0"
      ]
     },
     "execution_count": 71,
     "metadata": {},
     "output_type": "execute_result"
    }
   ],
   "source": [
    "full_loan_data.groupby(['Loan Application Year','Loan Application Month'])[['Loan Amount']].sum().apply(lambda x: x.sort_values(ascending=False)).head(5)"
   ]
  },
  {
   "cell_type": "markdown",
   "metadata": {},
   "source": [
    "# -- observed --\n",
    "    By the Above we can say the most salling year was 2018 with 4077390.0 loan amount"
   ]
  },
  {
   "cell_type": "code",
   "execution_count": 72,
   "metadata": {},
   "outputs": [
    {
     "data": {
      "text/html": [
       "<div>\n",
       "<style scoped>\n",
       "    .dataframe tbody tr th:only-of-type {\n",
       "        vertical-align: middle;\n",
       "    }\n",
       "\n",
       "    .dataframe tbody tr th {\n",
       "        vertical-align: top;\n",
       "    }\n",
       "\n",
       "    .dataframe thead th {\n",
       "        text-align: right;\n",
       "    }\n",
       "</style>\n",
       "<table border=\"1\" class=\"dataframe\">\n",
       "  <thead>\n",
       "    <tr style=\"text-align: right;\">\n",
       "      <th></th>\n",
       "      <th></th>\n",
       "      <th>Loan Amount</th>\n",
       "    </tr>\n",
       "    <tr>\n",
       "      <th>Loan Application Month</th>\n",
       "      <th>Loan Application Year</th>\n",
       "      <th></th>\n",
       "    </tr>\n",
       "  </thead>\n",
       "  <tbody>\n",
       "    <tr>\n",
       "      <th>9</th>\n",
       "      <th>2018</th>\n",
       "      <td>4077390.0</td>\n",
       "    </tr>\n",
       "    <tr>\n",
       "      <th>3</th>\n",
       "      <th>2019</th>\n",
       "      <td>3327350.0</td>\n",
       "    </tr>\n",
       "    <tr>\n",
       "      <th>7</th>\n",
       "      <th>2018</th>\n",
       "      <td>2723270.0</td>\n",
       "    </tr>\n",
       "    <tr>\n",
       "      <th>11</th>\n",
       "      <th>2018</th>\n",
       "      <td>2307330.0</td>\n",
       "    </tr>\n",
       "    <tr>\n",
       "      <th>1</th>\n",
       "      <th>2019</th>\n",
       "      <td>2209350.0</td>\n",
       "    </tr>\n",
       "    <tr>\n",
       "      <th>6</th>\n",
       "      <th>2018</th>\n",
       "      <td>1987790.0</td>\n",
       "    </tr>\n",
       "    <tr>\n",
       "      <th>10</th>\n",
       "      <th>2017</th>\n",
       "      <td>1717224.0</td>\n",
       "    </tr>\n",
       "    <tr>\n",
       "      <th>1</th>\n",
       "      <th>2018</th>\n",
       "      <td>1657074.0</td>\n",
       "    </tr>\n",
       "    <tr>\n",
       "      <th>12</th>\n",
       "      <th>2017</th>\n",
       "      <td>1474680.0</td>\n",
       "    </tr>\n",
       "    <tr>\n",
       "      <th>2</th>\n",
       "      <th>2018</th>\n",
       "      <td>1339700.0</td>\n",
       "    </tr>\n",
       "    <tr>\n",
       "      <th>...</th>\n",
       "      <th>...</th>\n",
       "      <td>...</td>\n",
       "    </tr>\n",
       "    <tr>\n",
       "      <th>10</th>\n",
       "      <th>2018</th>\n",
       "      <td>542850.0</td>\n",
       "    </tr>\n",
       "    <tr>\n",
       "      <th>4</th>\n",
       "      <th>2019</th>\n",
       "      <td>518150.0</td>\n",
       "    </tr>\n",
       "    <tr>\n",
       "      <th>8</th>\n",
       "      <th>2018</th>\n",
       "      <td>499050.0</td>\n",
       "    </tr>\n",
       "    <tr>\n",
       "      <th>2</th>\n",
       "      <th>2019</th>\n",
       "      <td>453200.0</td>\n",
       "    </tr>\n",
       "    <tr>\n",
       "      <th>12</th>\n",
       "      <th>2018</th>\n",
       "      <td>418080.0</td>\n",
       "    </tr>\n",
       "    <tr>\n",
       "      <th>11</th>\n",
       "      <th>2017</th>\n",
       "      <td>231765.0</td>\n",
       "    </tr>\n",
       "    <tr>\n",
       "      <th>9</th>\n",
       "      <th>2017</th>\n",
       "      <td>217420.0</td>\n",
       "    </tr>\n",
       "    <tr>\n",
       "      <th>4</th>\n",
       "      <th>2018</th>\n",
       "      <td>88580.0</td>\n",
       "    </tr>\n",
       "    <tr>\n",
       "      <th>6</th>\n",
       "      <th>2017</th>\n",
       "      <td>15937.0</td>\n",
       "    </tr>\n",
       "    <tr>\n",
       "      <th>7</th>\n",
       "      <th>2017</th>\n",
       "      <td>15136.0</td>\n",
       "    </tr>\n",
       "  </tbody>\n",
       "</table>\n",
       "<p>21 rows × 1 columns</p>\n",
       "</div>"
      ],
      "text/plain": [
       "                                              Loan Amount\n",
       "Loan Application Month Loan Application Year             \n",
       "9                      2018                     4077390.0\n",
       "3                      2019                     3327350.0\n",
       "7                      2018                     2723270.0\n",
       "11                     2018                     2307330.0\n",
       "1                      2019                     2209350.0\n",
       "6                      2018                     1987790.0\n",
       "10                     2017                     1717224.0\n",
       "1                      2018                     1657074.0\n",
       "12                     2017                     1474680.0\n",
       "2                      2018                     1339700.0\n",
       "...                                                   ...\n",
       "10                     2018                      542850.0\n",
       "4                      2019                      518150.0\n",
       "8                      2018                      499050.0\n",
       "2                      2019                      453200.0\n",
       "12                     2018                      418080.0\n",
       "11                     2017                      231765.0\n",
       "9                      2017                      217420.0\n",
       "4                      2018                       88580.0\n",
       "6                      2017                       15937.0\n",
       "7                      2017                       15136.0\n",
       "\n",
       "[21 rows x 1 columns]"
      ]
     },
     "execution_count": 72,
     "metadata": {},
     "output_type": "execute_result"
    }
   ],
   "source": [
    "full_loan_data.groupby(['Loan Application Month','Loan Application Year'])[['Loan Amount']].sum().apply(lambda x: x.sort_values(ascending=False))"
   ]
  },
  {
   "cell_type": "markdown",
   "metadata": {},
   "source": [
    "# -- observed --\n",
    "\n",
    "    By the Above we can say the most of the customer are taking loan on 9th month "
   ]
  },
  {
   "cell_type": "code",
   "execution_count": 73,
   "metadata": {},
   "outputs": [
    {
     "data": {
      "text/html": [
       "<div>\n",
       "<style scoped>\n",
       "    .dataframe tbody tr th:only-of-type {\n",
       "        vertical-align: middle;\n",
       "    }\n",
       "\n",
       "    .dataframe tbody tr th {\n",
       "        vertical-align: top;\n",
       "    }\n",
       "\n",
       "    .dataframe thead th {\n",
       "        text-align: right;\n",
       "    }\n",
       "</style>\n",
       "<table border=\"1\" class=\"dataframe\">\n",
       "  <thead>\n",
       "    <tr style=\"text-align: right;\">\n",
       "      <th></th>\n",
       "      <th></th>\n",
       "      <th>Loan Amount</th>\n",
       "    </tr>\n",
       "    <tr>\n",
       "      <th>product_id</th>\n",
       "      <th>Loan Application Year</th>\n",
       "      <th></th>\n",
       "    </tr>\n",
       "  </thead>\n",
       "  <tbody>\n",
       "    <tr>\n",
       "      <th rowspan=\"2\" valign=\"top\">38.0</th>\n",
       "      <th>2018</th>\n",
       "      <td>4315010.0</td>\n",
       "    </tr>\n",
       "    <tr>\n",
       "      <th>2019</th>\n",
       "      <td>2935150.0</td>\n",
       "    </tr>\n",
       "    <tr>\n",
       "      <th>43.0</th>\n",
       "      <th>2018</th>\n",
       "      <td>2238700.0</td>\n",
       "    </tr>\n",
       "    <tr>\n",
       "      <th>35.0</th>\n",
       "      <th>2018</th>\n",
       "      <td>2152800.0</td>\n",
       "    </tr>\n",
       "    <tr>\n",
       "      <th>36.0</th>\n",
       "      <th>2018</th>\n",
       "      <td>2144354.0</td>\n",
       "    </tr>\n",
       "    <tr>\n",
       "      <th>50.0</th>\n",
       "      <th>2018</th>\n",
       "      <td>1854800.0</td>\n",
       "    </tr>\n",
       "    <tr>\n",
       "      <th>47.0</th>\n",
       "      <th>2018</th>\n",
       "      <td>989100.0</td>\n",
       "    </tr>\n",
       "    <tr>\n",
       "      <th>44.0</th>\n",
       "      <th>2018</th>\n",
       "      <td>967050.0</td>\n",
       "    </tr>\n",
       "    <tr>\n",
       "      <th>43.0</th>\n",
       "      <th>2017</th>\n",
       "      <td>944959.0</td>\n",
       "    </tr>\n",
       "    <tr>\n",
       "      <th>36.0</th>\n",
       "      <th>2019</th>\n",
       "      <td>901100.0</td>\n",
       "    </tr>\n",
       "    <tr>\n",
       "      <th>...</th>\n",
       "      <th>...</th>\n",
       "      <td>...</td>\n",
       "    </tr>\n",
       "    <tr>\n",
       "      <th rowspan=\"2\" valign=\"top\">40.0</th>\n",
       "      <th>2017</th>\n",
       "      <td>107500.0</td>\n",
       "    </tr>\n",
       "    <tr>\n",
       "      <th>2019</th>\n",
       "      <td>106000.0</td>\n",
       "    </tr>\n",
       "    <tr>\n",
       "      <th>46.0</th>\n",
       "      <th>2018</th>\n",
       "      <td>89900.0</td>\n",
       "    </tr>\n",
       "    <tr>\n",
       "      <th>48.0</th>\n",
       "      <th>2017</th>\n",
       "      <td>87000.0</td>\n",
       "    </tr>\n",
       "    <tr>\n",
       "      <th>23.0</th>\n",
       "      <th>2017</th>\n",
       "      <td>63000.0</td>\n",
       "    </tr>\n",
       "    <tr>\n",
       "      <th>42.0</th>\n",
       "      <th>2019</th>\n",
       "      <td>53000.0</td>\n",
       "    </tr>\n",
       "    <tr>\n",
       "      <th>46.0</th>\n",
       "      <th>2017</th>\n",
       "      <td>46000.0</td>\n",
       "    </tr>\n",
       "    <tr>\n",
       "      <th rowspan=\"2\" valign=\"top\">41.0</th>\n",
       "      <th>2017</th>\n",
       "      <td>45000.0</td>\n",
       "    </tr>\n",
       "    <tr>\n",
       "      <th>2019</th>\n",
       "      <td>45000.0</td>\n",
       "    </tr>\n",
       "    <tr>\n",
       "      <th>23.0</th>\n",
       "      <th>2018</th>\n",
       "      <td>42000.0</td>\n",
       "    </tr>\n",
       "  </tbody>\n",
       "</table>\n",
       "<p>37 rows × 1 columns</p>\n",
       "</div>"
      ],
      "text/plain": [
       "                                  Loan Amount\n",
       "product_id Loan Application Year             \n",
       "38.0       2018                     4315010.0\n",
       "           2019                     2935150.0\n",
       "43.0       2018                     2238700.0\n",
       "35.0       2018                     2152800.0\n",
       "36.0       2018                     2144354.0\n",
       "50.0       2018                     1854800.0\n",
       "47.0       2018                      989100.0\n",
       "44.0       2018                      967050.0\n",
       "43.0       2017                      944959.0\n",
       "36.0       2019                      901100.0\n",
       "...                                       ...\n",
       "40.0       2017                      107500.0\n",
       "           2019                      106000.0\n",
       "46.0       2018                       89900.0\n",
       "48.0       2017                       87000.0\n",
       "23.0       2017                       63000.0\n",
       "42.0       2019                       53000.0\n",
       "46.0       2017                       46000.0\n",
       "41.0       2017                       45000.0\n",
       "           2019                       45000.0\n",
       "23.0       2018                       42000.0\n",
       "\n",
       "[37 rows x 1 columns]"
      ]
     },
     "execution_count": 73,
     "metadata": {},
     "output_type": "execute_result"
    }
   ],
   "source": [
    "full_loan_data.groupby(['product_id','Loan Application Year'])[['Loan Amount']].sum().apply(lambda x: x.sort_values(ascending=False))"
   ]
  },
  {
   "cell_type": "markdown",
   "metadata": {},
   "source": [
    "# -- observed --\n",
    "    By the Above we can we most highest selling product is with product_id as 38.0 in the year 2018 \n",
    "    i.e. Greenway Jumbo Stove GJS1--\tGJS1--\tothers\t"
   ]
  },
  {
   "cell_type": "code",
   "execution_count": 74,
   "metadata": {},
   "outputs": [
    {
     "data": {
      "text/html": [
       "<div>\n",
       "<style scoped>\n",
       "    .dataframe tbody tr th:only-of-type {\n",
       "        vertical-align: middle;\n",
       "    }\n",
       "\n",
       "    .dataframe tbody tr th {\n",
       "        vertical-align: top;\n",
       "    }\n",
       "\n",
       "    .dataframe thead th {\n",
       "        text-align: right;\n",
       "    }\n",
       "</style>\n",
       "<table border=\"1\" class=\"dataframe\">\n",
       "  <thead>\n",
       "    <tr style=\"text-align: right;\">\n",
       "      <th></th>\n",
       "      <th>Loan Amount</th>\n",
       "      <th>product_id</th>\n",
       "      <th>Loan Application Year</th>\n",
       "      <th>Loan Application Month</th>\n",
       "      <th>Loan Application Day</th>\n",
       "      <th>Product Installed Year</th>\n",
       "      <th>Product Installed Month</th>\n",
       "      <th>Product Installed Day</th>\n",
       "      <th>Loan Processed Time</th>\n",
       "    </tr>\n",
       "  </thead>\n",
       "  <tbody>\n",
       "    <tr>\n",
       "      <th>Loan Amount</th>\n",
       "      <td>1.000000</td>\n",
       "      <td>0.501608</td>\n",
       "      <td>NaN</td>\n",
       "      <td>NaN</td>\n",
       "      <td>NaN</td>\n",
       "      <td>NaN</td>\n",
       "      <td>NaN</td>\n",
       "      <td>NaN</td>\n",
       "      <td>NaN</td>\n",
       "    </tr>\n",
       "    <tr>\n",
       "      <th>product_id</th>\n",
       "      <td>0.501608</td>\n",
       "      <td>1.000000</td>\n",
       "      <td>NaN</td>\n",
       "      <td>NaN</td>\n",
       "      <td>NaN</td>\n",
       "      <td>NaN</td>\n",
       "      <td>NaN</td>\n",
       "      <td>NaN</td>\n",
       "      <td>NaN</td>\n",
       "    </tr>\n",
       "    <tr>\n",
       "      <th>Loan Application Year</th>\n",
       "      <td>NaN</td>\n",
       "      <td>NaN</td>\n",
       "      <td>1.000000</td>\n",
       "      <td>-0.743195</td>\n",
       "      <td>NaN</td>\n",
       "      <td>0.962605</td>\n",
       "      <td>-0.687712</td>\n",
       "      <td>NaN</td>\n",
       "      <td>NaN</td>\n",
       "    </tr>\n",
       "    <tr>\n",
       "      <th>Loan Application Month</th>\n",
       "      <td>NaN</td>\n",
       "      <td>NaN</td>\n",
       "      <td>-0.743195</td>\n",
       "      <td>1.000000</td>\n",
       "      <td>NaN</td>\n",
       "      <td>-0.671108</td>\n",
       "      <td>0.872685</td>\n",
       "      <td>NaN</td>\n",
       "      <td>NaN</td>\n",
       "    </tr>\n",
       "    <tr>\n",
       "      <th>Loan Application Day</th>\n",
       "      <td>NaN</td>\n",
       "      <td>NaN</td>\n",
       "      <td>NaN</td>\n",
       "      <td>NaN</td>\n",
       "      <td>1.0</td>\n",
       "      <td>NaN</td>\n",
       "      <td>NaN</td>\n",
       "      <td>NaN</td>\n",
       "      <td>NaN</td>\n",
       "    </tr>\n",
       "    <tr>\n",
       "      <th>Product Installed Year</th>\n",
       "      <td>NaN</td>\n",
       "      <td>NaN</td>\n",
       "      <td>0.962605</td>\n",
       "      <td>-0.671108</td>\n",
       "      <td>NaN</td>\n",
       "      <td>1.000000</td>\n",
       "      <td>-0.751330</td>\n",
       "      <td>NaN</td>\n",
       "      <td>NaN</td>\n",
       "    </tr>\n",
       "    <tr>\n",
       "      <th>Product Installed Month</th>\n",
       "      <td>NaN</td>\n",
       "      <td>NaN</td>\n",
       "      <td>-0.687712</td>\n",
       "      <td>0.872685</td>\n",
       "      <td>NaN</td>\n",
       "      <td>-0.751330</td>\n",
       "      <td>1.000000</td>\n",
       "      <td>NaN</td>\n",
       "      <td>NaN</td>\n",
       "    </tr>\n",
       "    <tr>\n",
       "      <th>Product Installed Day</th>\n",
       "      <td>NaN</td>\n",
       "      <td>NaN</td>\n",
       "      <td>NaN</td>\n",
       "      <td>NaN</td>\n",
       "      <td>NaN</td>\n",
       "      <td>NaN</td>\n",
       "      <td>NaN</td>\n",
       "      <td>1.0</td>\n",
       "      <td>NaN</td>\n",
       "    </tr>\n",
       "    <tr>\n",
       "      <th>Loan Processed Time</th>\n",
       "      <td>NaN</td>\n",
       "      <td>NaN</td>\n",
       "      <td>NaN</td>\n",
       "      <td>NaN</td>\n",
       "      <td>NaN</td>\n",
       "      <td>NaN</td>\n",
       "      <td>NaN</td>\n",
       "      <td>NaN</td>\n",
       "      <td>1.0</td>\n",
       "    </tr>\n",
       "  </tbody>\n",
       "</table>\n",
       "</div>"
      ],
      "text/plain": [
       "                         Loan Amount  product_id  Loan Application Year  \\\n",
       "Loan Amount                 1.000000    0.501608                    NaN   \n",
       "product_id                  0.501608    1.000000                    NaN   \n",
       "Loan Application Year            NaN         NaN               1.000000   \n",
       "Loan Application Month           NaN         NaN              -0.743195   \n",
       "Loan Application Day             NaN         NaN                    NaN   \n",
       "Product Installed Year           NaN         NaN               0.962605   \n",
       "Product Installed Month          NaN         NaN              -0.687712   \n",
       "Product Installed Day            NaN         NaN                    NaN   \n",
       "Loan Processed Time              NaN         NaN                    NaN   \n",
       "\n",
       "                         Loan Application Month  Loan Application Day  \\\n",
       "Loan Amount                                 NaN                   NaN   \n",
       "product_id                                  NaN                   NaN   \n",
       "Loan Application Year                 -0.743195                   NaN   \n",
       "Loan Application Month                 1.000000                   NaN   \n",
       "Loan Application Day                        NaN                   1.0   \n",
       "Product Installed Year                -0.671108                   NaN   \n",
       "Product Installed Month                0.872685                   NaN   \n",
       "Product Installed Day                       NaN                   NaN   \n",
       "Loan Processed Time                         NaN                   NaN   \n",
       "\n",
       "                         Product Installed Year  Product Installed Month  \\\n",
       "Loan Amount                                 NaN                      NaN   \n",
       "product_id                                  NaN                      NaN   \n",
       "Loan Application Year                  0.962605                -0.687712   \n",
       "Loan Application Month                -0.671108                 0.872685   \n",
       "Loan Application Day                        NaN                      NaN   \n",
       "Product Installed Year                 1.000000                -0.751330   \n",
       "Product Installed Month               -0.751330                 1.000000   \n",
       "Product Installed Day                       NaN                      NaN   \n",
       "Loan Processed Time                         NaN                      NaN   \n",
       "\n",
       "                         Product Installed Day  Loan Processed Time  \n",
       "Loan Amount                                NaN                  NaN  \n",
       "product_id                                 NaN                  NaN  \n",
       "Loan Application Year                      NaN                  NaN  \n",
       "Loan Application Month                     NaN                  NaN  \n",
       "Loan Application Day                       NaN                  NaN  \n",
       "Product Installed Year                     NaN                  NaN  \n",
       "Product Installed Month                    NaN                  NaN  \n",
       "Product Installed Day                      1.0                  NaN  \n",
       "Loan Processed Time                        NaN                  1.0  "
      ]
     },
     "execution_count": 74,
     "metadata": {},
     "output_type": "execute_result"
    }
   ],
   "source": [
    "full_loan_data.corr()[(full_loan_data.corr()>0.3)| (full_loan_data.corr()<-0.3)]"
   ]
  },
  {
   "cell_type": "code",
   "execution_count": 75,
   "metadata": {},
   "outputs": [
    {
     "data": {
      "text/plain": [
       "Index(['Village', 'Branch Name', 'Loan Amount', 'product_id',\n",
       "       'Loan Application Year', 'Loan Application Month',\n",
       "       'Loan Application Day', 'Product Installed Year',\n",
       "       'Product Installed Month', 'Product Installed Day',\n",
       "       'Loan Processed Time', 'Full_Product_Details'],\n",
       "      dtype='object')"
      ]
     },
     "execution_count": 75,
     "metadata": {},
     "output_type": "execute_result"
    }
   ],
   "source": [
    "full_loan_data.columns"
   ]
  },
  {
   "cell_type": "code",
   "execution_count": 76,
   "metadata": {},
   "outputs": [],
   "source": [
    "sale_2017=full_loan_data[full_loan_data['Loan Application Year']==2017]['product_id'].value_counts()\n",
    "sale_2018=full_loan_data[full_loan_data['Loan Application Year']==2018]['product_id'].value_counts()\n",
    "sale_2019=full_loan_data[full_loan_data['Loan Application Year']==2019]['product_id'].value_counts()"
   ]
  },
  {
   "cell_type": "code",
   "execution_count": 77,
   "metadata": {},
   "outputs": [
    {
     "data": {
      "text/plain": [
       "23.0     121.333333\n",
       "35.0    1021.681818\n",
       "36.0     599.529412\n",
       "37.0     130.409449\n",
       "38.0    5062.909091\n",
       "40.0     606.666667\n",
       "41.0    2730.000000\n",
       "42.0            NaN\n",
       "43.0     426.623656\n",
       "44.0     438.454545\n",
       "46.0     364.000000\n",
       "47.0     887.250000\n",
       "48.0     242.666667\n",
       "50.0    1040.000000\n",
       "Name: product_id, dtype: float64"
      ]
     },
     "execution_count": 77,
     "metadata": {},
     "output_type": "execute_result"
    },
    {
     "data": {
      "text/plain": [
       "23.0          NaN\n",
       "35.0    37.408907\n",
       "36.0    58.333333\n",
       "37.0          NaN\n",
       "38.0    95.239651\n",
       "40.0    42.000000\n",
       "41.0     9.333333\n",
       "42.0    35.000000\n",
       "43.0    45.596330\n",
       "44.0    42.264151\n",
       "46.0          NaN\n",
       "47.0    39.487179\n",
       "48.0          NaN\n",
       "50.0    44.333333\n",
       "Name: product_id, dtype: float64"
      ]
     },
     "execution_count": 77,
     "metadata": {},
     "output_type": "execute_result"
    }
   ],
   "source": [
    "sale_2018*len(sale_2017)/sale_2017*len(sale_2018)\n",
    "sale_2019*len(sale_2018)/sale_2018*len(sale_2019)"
   ]
  },
  {
   "cell_type": "markdown",
   "metadata": {},
   "source": [
    "# -- observed --\n",
    "    By the Above Analysis we can say the sale got increased on the 2018 but again got decreased on 2019 for all the product"
   ]
  },
  {
   "cell_type": "code",
   "execution_count": 78,
   "metadata": {},
   "outputs": [
    {
     "data": {
      "text/plain": [
       "Loan Application Year\n",
       "2017     3473\n",
       "2018    11282\n",
       "2019     5427\n",
       "Name: Loan Processed Time, dtype: int64"
      ]
     },
     "execution_count": 78,
     "metadata": {},
     "output_type": "execute_result"
    }
   ],
   "source": [
    "full_loan_data.groupby(['Loan Application Year'])['Loan Processed Time'].sum()"
   ]
  },
  {
   "cell_type": "code",
   "execution_count": 79,
   "metadata": {},
   "outputs": [
    {
     "data": {
      "text/plain": [
       "Loan Application Year\n",
       "2017     571\n",
       "2018    2902\n",
       "2019    1526\n",
       "dtype: int64"
      ]
     },
     "execution_count": 79,
     "metadata": {},
     "output_type": "execute_result"
    }
   ],
   "source": [
    "full_loan_data.groupby(['Loan Application Year']).size()"
   ]
  },
  {
   "cell_type": "code",
   "execution_count": 80,
   "metadata": {},
   "outputs": [
    {
     "data": {
      "text/plain": [
       "Loan Application Year\n",
       "2017    6.082312\n",
       "2018    3.887664\n",
       "2019    3.556356\n",
       "dtype: float64"
      ]
     },
     "execution_count": 80,
     "metadata": {},
     "output_type": "execute_result"
    }
   ],
   "source": [
    "full_loan_data.groupby(['Loan Application Year'])['Loan Processed Time'].sum()/full_loan_data.groupby(['Loan Application Year']).size()"
   ]
  },
  {
   "cell_type": "markdown",
   "metadata": {},
   "source": [
    "# -- observed --\n",
    "    By the Above Analysis we can say processing time for an application is getting reduced each year from 2017 to 2019 which is average 6.08 days to 3.55 days "
   ]
  }
 ],
 "metadata": {
  "kernelspec": {
   "display_name": "Python 3",
   "language": "python",
   "name": "python3"
  },
  "language_info": {
   "codemirror_mode": {
    "name": "ipython",
    "version": 3
   },
   "file_extension": ".py",
   "mimetype": "text/x-python",
   "name": "python",
   "nbconvert_exporter": "python",
   "pygments_lexer": "ipython3",
   "version": "3.6.6"
  }
 },
 "nbformat": 4,
 "nbformat_minor": 2
}
